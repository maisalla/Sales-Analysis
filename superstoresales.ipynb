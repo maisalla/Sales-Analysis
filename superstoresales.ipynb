{
 "cells": [
  {
   "cell_type": "code",
   "execution_count": 1,
   "metadata": {},
   "outputs": [],
   "source": [
    "from pyspark.sql import *\n",
    "from pyspark.sql.types import Row\n",
    "from pyspark.sql import functions as f\n",
    "from pyspark.sql.functions import unix_timestamp, from_unixtime\n",
    "from pyspark.sql.functions import *\n",
    "from pyspark.sql.types import *\n",
    "import matplotlib\n",
    "import matplotlib.pyplot as plt\n",
    "import numpy as np\n",
    "from pyspark.ml.fpm import FPGrowth\n",
    "import plotly.express as px\n",
    "import plotly.graph_objects as go\n",
    "from plotly.subplots import make_subplots\n",
    "import plotly.io as pio\n",
    "from datetime import datetime, timedelta"
   ]
  },
  {
   "cell_type": "code",
   "execution_count": 2,
   "metadata": {},
   "outputs": [
    {
     "name": "stdout",
     "output_type": "stream",
     "text": [
      "51290\n",
      "root\n",
      " |-- Row ID: integer (nullable = true)\n",
      " |-- Order ID: string (nullable = true)\n",
      " |-- Order Date: string (nullable = true)\n",
      " |-- Ship Date: string (nullable = true)\n",
      " |-- Ship Mode: string (nullable = true)\n",
      " |-- Customer ID: string (nullable = true)\n",
      " |-- Customer Name: string (nullable = true)\n",
      " |-- Segment: string (nullable = true)\n",
      " |-- City: string (nullable = true)\n",
      " |-- State: string (nullable = true)\n",
      " |-- Country: string (nullable = true)\n",
      " |-- Postal Code: integer (nullable = true)\n",
      " |-- Market: string (nullable = true)\n",
      " |-- Region: string (nullable = true)\n",
      " |-- Product ID: string (nullable = true)\n",
      " |-- Category: string (nullable = true)\n",
      " |-- Sub-Category: string (nullable = true)\n",
      " |-- Product Name: string (nullable = true)\n",
      " |-- Sales: string (nullable = true)\n",
      " |-- Quantity: string (nullable = true)\n",
      " |-- Discount: string (nullable = true)\n",
      " |-- Profit: double (nullable = true)\n",
      " |-- Shipping Cost: double (nullable = true)\n",
      " |-- Order Priority: string (nullable = true)\n",
      "\n"
     ]
    }
   ],
   "source": [
    "df = spark.read.csv(\"superstore.csv\", inferSchema = True, header = True)\n",
    "print(df.count())\n",
    "df.printSchema()"
   ]
  },
  {
   "cell_type": "code",
   "execution_count": null,
   "metadata": {},
   "outputs": [],
   "source": []
  },
  {
   "cell_type": "code",
   "execution_count": 3,
   "metadata": {},
   "outputs": [
    {
     "name": "stdout",
     "output_type": "stream",
     "text": [
      "root\n",
      " |-- Order ID: string (nullable = true)\n",
      " |-- Order Date: string (nullable = true)\n",
      " |-- Customer ID: string (nullable = true)\n",
      " |-- Segment: string (nullable = true)\n",
      " |-- Country: string (nullable = true)\n",
      " |-- Market: string (nullable = true)\n",
      " |-- Product ID: string (nullable = true)\n",
      " |-- Category: string (nullable = true)\n",
      " |-- Sub-Category: string (nullable = true)\n",
      " |-- Product Name: string (nullable = true)\n",
      " |-- Sales: double (nullable = true)\n",
      " |-- Quantity: long (nullable = true)\n",
      " |-- Profit: double (nullable = true)\n",
      " |-- Month: string (nullable = true)\n",
      "\n",
      "None\n"
     ]
    }
   ],
   "source": [
    "data = df.drop(\"Row ID\", \"City\", \"State\", \"Postal Code\", \"Region\", \"Customer Name\", \"Order Priority\", \"Discount\", \"Shipping Cost\", \"Ship Mode\", \"Ship Date\")\n",
    "data = data.withColumn(\"Order Date\", f.regexp_replace(\"Order Date\", \"/\", \"-\"))\n",
    "data = data.withColumn(\"Order Date\",to_date(data[\"Order Date\"], 'dd-MM-yyyy'))\n",
    "data = data.withColumn(\"Order Date\", data[\"Order Date\"].cast(StringType()))\n",
    "data = data.withColumn(\"Month\", data[\"Order Date\"].substr(0, 7))\n",
    "data = data.withColumn(\"Quantity\", data[\"Quantity\"].cast(\"long\"))\n",
    "data = data.withColumn(\"Sales\", data[\"Sales\"].cast(\"double\"))\n",
    "print(data.printSchema())"
   ]
  },
  {
   "cell_type": "markdown",
   "metadata": {},
   "source": [
    "# Most ordered products"
   ]
  },
  {
   "cell_type": "code",
   "execution_count": 4,
   "metadata": {},
   "outputs": [
    {
     "name": "stdout",
     "output_type": "stream",
     "text": [
      "+---------------+-------------+\n",
      "|     Product ID|Total Ordered|\n",
      "+---------------+-------------+\n",
      "|OFF-ST-10002756|         4381|\n",
      "|FUR-FU-10001488|         2264|\n",
      "|FUR-FU-10002298|         2061|\n",
      "|OFF-ST-10004804|         1395|\n",
      "|OFF-BI-10001597|         1209|\n",
      "|OFF-EN-10001453|          935|\n",
      "|OFF-ST-10003994|          846|\n",
      "|OFF-BI-10002133|          830|\n",
      "|OFF-PA-10002222|          591|\n",
      "|FUR-FU-10001602|          543|\n",
      "|FUR-FU-10000305|          466|\n",
      "|OFF-SU-10000898|          455|\n",
      "|OFF-PA-10000241|          454|\n",
      "|OFF-ST-10002289|          404|\n",
      "|FUR-FU-10001475|          330|\n",
      "|OFF-PA-10000380|          279|\n",
      "|OFF-BI-10000309|          266|\n",
      "|OFF-PA-10001509|          265|\n",
      "|FUR-FU-10003878|          250|\n",
      "|OFF-PA-10001776|          242|\n",
      "+---------------+-------------+\n",
      "\n",
      "51290\n",
      "10292\n"
     ]
    }
   ],
   "source": [
    "prod = data.select(data[\"Product ID\"], data[\"Quantity\"])\n",
    "most_prod = prod.groupby(\"Product ID\").sum().withColumnRenamed(\"sum(Quantity)\", \"Total Ordered\")\n",
    "topten=most_prod.orderBy(\"Total Ordered\" ,ascending = False).limit(20)\n",
    "topten.show()\n",
    "\n",
    "print(prod.count())\n",
    "print(most_prod.count())"
   ]
  },
  {
   "cell_type": "code",
   "execution_count": 5,
   "metadata": {},
   "outputs": [
    {
     "data": {
      "image/png": "[encoded data removed]",
      "text/plain": [
       "<Figure size 432x288 with 1 Axes>"
      ]
     },
     "metadata": {
      "needs_background": "light"
     },
     "output_type": "display_data"
    }
   ],
   "source": [
    "p = topten.select(topten[\"Product ID\"])\n",
    "o = topten.select(topten[\"Total Ordered\"])\n",
    "l1 = [row[\"Product ID\"] for row in p.collect()]\n",
    "l2 = [row[\"Total Ordered\"] for row in o.collect()]\n",
    "plt.bar(l1, l2)\n",
    "plt.xticks(l1,rotation=\"vertical\")\n",
    "plt.xlabel(\"Product ID\")\n",
    "plt.ylabel(\"Total Quantity Ordered\")\n",
    "plt.savefig('product_orders.png', dpi=300, bbox_inches='tight')\n",
    "plt.show()"
   ]
  },
  {
   "cell_type": "code",
   "execution_count": null,
   "metadata": {},
   "outputs": [],
   "source": []
  },
  {
   "cell_type": "markdown",
   "metadata": {},
   "source": [
    "# Most Ordered Category"
   ]
  },
  {
   "cell_type": "markdown",
   "metadata": {},
   "source": [
    "### Most Ordered Sub-Category "
   ]
  },
  {
   "cell_type": "code",
   "execution_count": 6,
   "metadata": {},
   "outputs": [
    {
     "name": "stdout",
     "output_type": "stream",
     "text": [
      "+------------+-------------+\n",
      "|Sub-Category|Total Ordered|\n",
      "+------------+-------------+\n",
      "|     Binders|        23986|\n",
      "|     Storage|        23850|\n",
      "| Furnishings|        17282|\n",
      "|         Art|        16301|\n",
      "|       Paper|        15405|\n",
      "|      Chairs|        12336|\n",
      "|      Phones|        12082|\n",
      "| Accessories|        10946|\n",
      "|   Envelopes|         9484|\n",
      "|      Labels|         9322|\n",
      "|    Supplies|         9200|\n",
      "|   Fasteners|         8389|\n",
      "|   Bookcases|         8310|\n",
      "|     Copiers|         7454|\n",
      "|  Appliances|         6078|\n",
      "|    Machines|         4906|\n",
      "|      Tables|         3083|\n",
      "+------------+-------------+\n",
      "\n"
     ]
    }
   ],
   "source": [
    "subcatg = data.select(data[\"Sub-Category\"], data[\"Quantity\"])\n",
    "most_subcatg = subcatg.groupBy(subcatg[\"Sub-Category\"]).sum().withColumnRenamed(\"sum(Quantity)\", \"Total Ordered\")\n",
    "most_subcatg.orderBy(most_subcatg[\"Total Ordered\"], ascending = False).show()"
   ]
  },
  {
   "cell_type": "code",
   "execution_count": 7,
   "metadata": {},
   "outputs": [
    {
     "data": {
      "image/png": "[encoded data removed]",
      "text/plain": [
       "<Figure size 432x288 with 1 Axes>"
      ]
     },
     "metadata": {
      "needs_background": "light"
     },
     "output_type": "display_data"
    }
   ],
   "source": [
    "p = most_subcatg.select(most_subcatg[\"Sub-Category\"])\n",
    "o = most_subcatg.select(most_subcatg[\"Total Ordered\"])\n",
    "l1 = [row[\"Sub-Category\"] for row in p.collect()]\n",
    "l2 = [row[\"Total Ordered\"] for row in o.collect()]\n",
    "plt.bar(l1, l2)\n",
    "plt.xticks(l1,rotation=\"vertical\")\n",
    "plt.xlabel(\"Sub-Category\")\n",
    "plt.ylabel(\"Total Quantity Ordered\")\n",
    "plt.show()"
   ]
  },
  {
   "cell_type": "markdown",
   "metadata": {},
   "source": [
    "### Most Ordered Category "
   ]
  },
  {
   "cell_type": "code",
   "execution_count": 8,
   "metadata": {},
   "outputs": [
    {
     "name": "stdout",
     "output_type": "stream",
     "text": [
      "+---------------+-------------+\n",
      "|       Category|Total Ordered|\n",
      "+---------------+-------------+\n",
      "|Office Supplies|       122015|\n",
      "|      Furniture|        41011|\n",
      "|     Technology|        35388|\n",
      "+---------------+-------------+\n",
      "\n"
     ]
    }
   ],
   "source": [
    "catg = data.select(data[\"Category\"], data[\"Quantity\"])\n",
    "most_catg = catg.groupBy(catg[\"Category\"]).sum().withColumnRenamed(\"sum(Quantity)\", \"Total Ordered\")\n",
    "most_catg.orderBy(most_catg[\"Total Ordered\"], ascending = False).show()"
   ]
  },
  {
   "cell_type": "code",
   "execution_count": 9,
   "metadata": {},
   "outputs": [
    {
     "data": {
      "image/png": "[encoded data removed]",
      "text/plain": [
       "<Figure size 432x288 with 1 Axes>"
      ]
     },
     "metadata": {},
     "output_type": "display_data"
    }
   ],
   "source": [
    "p = most_catg.select(most_catg[\"Category\"])\n",
    "o = most_catg.select(most_catg[\"Total Ordered\"])\n",
    "l1 = [row[\"Category\"] for row in p.collect()]\n",
    "l2 = [row[\"Total Ordered\"] for row in o.collect()]\n",
    "\n",
    "sizes=[122015,41011,35388]\n",
    "labels=\"Office Supplies\",\"Furniture\",\"Technology\"\n",
    "plt.pie(sizes,labels=labels,shadow=True,autopct='%1.1f%%')\n",
    "plt.savefig('category_orders.png', dpi=300, bbox_inches='tight')\n",
    "plt.show()"
   ]
  },
  {
   "cell_type": "markdown",
   "metadata": {},
   "source": [
    "# Country with the most orders"
   ]
  },
  {
   "cell_type": "code",
   "execution_count": 42,
   "metadata": {},
   "outputs": [
    {
     "name": "stdout",
     "output_type": "stream",
     "text": [
      "+------------------+-------------+\n",
      "|           Country|Total Ordered|\n",
      "+------------------+-------------+\n",
      "|     United States|         5009|\n",
      "|         Australia|         1420|\n",
      "|            Mexico|         1329|\n",
      "|            France|         1222|\n",
      "|             China|          925|\n",
      "|           Germany|          907|\n",
      "|             India|          785|\n",
      "|            Brazil|          784|\n",
      "|    United Kingdom|          775|\n",
      "|         Indonesia|          698|\n",
      "|            Turkey|          632|\n",
      "|             Italy|          529|\n",
      "|             Spain|          429|\n",
      "|           Nigeria|          410|\n",
      "|Dominican Republic|          389|\n",
      "|       El Salvador|          375|\n",
      "|              Cuba|          369|\n",
      "|          Honduras|          349|\n",
      "|       Philippines|          326|\n",
      "|         Nicaragua|          315|\n",
      "+------------------+-------------+\n",
      "only showing top 20 rows\n",
      "\n"
     ]
    }
   ],
   "source": [
    "country = data.select(data[\"Country\"], data[\"Order ID\"])\n",
    "most_country = country.distinct().groupBy(country[\"Country\"]).count().withColumnRenamed(\"count\", \"Total Ordered\")\n",
    "most_country.orderBy(most_country[\"Total Ordered\"], ascending = False).show()"
   ]
  },
  {
   "cell_type": "code",
   "execution_count": 43,
   "metadata": {},
   "outputs": [
    {
     "data": {
      "application/vnd.plotly.v1+json": {
       "config": {
        "plotlyServerURL": "https://plot.ly"
       },
       "data": [
        {
         "autocolorscale": true,
         "colorbar": {
          "title": {
           "text": "Orders"
          }
         },
         "locationmode": "country names",
         "locations": [
          "Chad",
          "Russia",
          "Paraguay",
          "Yemen",
          "Senegal",
          "Sweden",
          "Philippines",
          "Eritrea",
          "Djibouti",
          "Singapore",
          "Malaysia",
          "Turkey",
          "Iraq",
          "Germany",
          "Afghanistan",
          "Cambodia",
          "Rwanda",
          "Jordan",
          "Sudan",
          "France",
          "Sri Lanka",
          "Taiwan",
          "Togo",
          "Algeria",
          "Equatorial Guinea",
          "Slovakia",
          "Argentina",
          "Angola",
          "Belgium",
          "Ecuador",
          "Qatar",
          "Lesotho",
          "Madagascar",
          "Albania",
          "Finland",
          "Nicaragua",
          "Ghana",
          "Benin",
          "Peru",
          "Sierra Leone",
          "United States",
          "China",
          "India",
          "Belarus",
          "Somalia",
          "Chile",
          "Tajikistan",
          "Martinique",
          "Croatia",
          "Burundi",
          "Nigeria",
          "Bolivia",
          "Gabon",
          "Italy",
          "Lithuania",
          "Norway",
          "Turkmenistan",
          "Spain",
          "Cuba",
          "Mauritania",
          "Guadeloupe",
          "Denmark",
          "Niger",
          "Central African Republic",
          "Bangladesh",
          "Barbados",
          "Iran",
          "Ireland",
          "Thailand",
          "Swaziland",
          "Democratic Republic of the Congo",
          "Morocco",
          "Panama",
          "Hong Kong",
          "Ukraine",
          "Venezuela",
          "Israel",
          "South Korea",
          "Uruguay",
          "Mexico",
          "Cote d'Ivoire",
          "Georgia",
          "Zimbabwe",
          "Estonia",
          "Montenegro",
          "Indonesia",
          "Guatemala",
          "Mongolia",
          "Republic of the Congo",
          "Azerbaijan",
          "Libya",
          "Armenia",
          "Tunisia",
          "Liberia",
          "Honduras",
          "Syria",
          "Trinidad and Tobago",
          "Saudi Arabia",
          "Uganda",
          "Myanmar (Burma)",
          "Namibia",
          "Switzerland",
          "Zambia",
          "Ethiopia",
          "Jamaica",
          "United Arab Emirates",
          "South Sudan",
          "Guinea",
          "Canada",
          "Uzbekistan",
          "Macedonia",
          "Kyrgyzstan",
          "Czech Republic",
          "Mozambique",
          "Brazil",
          "Kenya",
          "Lebanon",
          "Slovenia",
          "Dominican Republic",
          "Tanzania",
          "Japan",
          "New Zealand",
          "Bosnia and Herzegovina",
          "Haiti",
          "Poland",
          "Portugal",
          "Australia",
          "Cameroon",
          "Papua New Guinea",
          "Romania",
          "Guinea-Bissau",
          "Bulgaria",
          "Nepal",
          "Austria",
          "El Salvador",
          "Egypt",
          "Kazakhstan",
          "South Africa",
          "Bahrain",
          "Colombia",
          "Hungary",
          "Pakistan",
          "United Kingdom",
          "Moldova",
          "Vietnam",
          "Mali",
          "Netherlands"
         ],
         "text": [
          "Chad",
          "Russia",
          "Paraguay",
          "Yemen",
          "Senegal",
          "Sweden",
          "Philippines",
          "Eritrea",
          "Djibouti",
          "Singapore",
          "Malaysia",
          "Turkey",
          "Iraq",
          "Germany",
          "Afghanistan",
          "Cambodia",
          "Rwanda",
          "Jordan",
          "Sudan",
          "France",
          "Sri Lanka",
          "Taiwan",
          "Togo",
          "Algeria",
          "Equatorial Guinea",
          "Slovakia",
          "Argentina",
          "Angola",
          "Belgium",
          "Ecuador",
          "Qatar",
          "Lesotho",
          "Madagascar",
          "Albania",
          "Finland",
          "Nicaragua",
          "Ghana",
          "Benin",
          "Peru",
          "Sierra Leone",
          "United States",
          "China",
          "India",
          "Belarus",
          "Somalia",
          "Chile",
          "Tajikistan",
          "Martinique",
          "Croatia",
          "Burundi",
          "Nigeria",
          "Bolivia",
          "Gabon",
          "Italy",
          "Lithuania",
          "Norway",
          "Turkmenistan",
          "Spain",
          "Cuba",
          "Mauritania",
          "Guadeloupe",
          "Denmark",
          "Niger",
          "Central African Republic",
          "Bangladesh",
          "Barbados",
          "Iran",
          "Ireland",
          "Thailand",
          "Swaziland",
          "Democratic Republic of the Congo",
          "Morocco",
          "Panama",
          "Hong Kong",
          "Ukraine",
          "Venezuela",
          "Israel",
          "South Korea",
          "Uruguay",
          "Mexico",
          "Cote d'Ivoire",
          "Georgia",
          "Zimbabwe",
          "Estonia",
          "Montenegro",
          "Indonesia",
          "Guatemala",
          "Mongolia",
          "Republic of the Congo",
          "Azerbaijan",
          "Libya",
          "Armenia",
          "Tunisia",
          "Liberia",
          "Honduras",
          "Syria",
          "Trinidad and Tobago",
          "Saudi Arabia",
          "Uganda",
          "Myanmar (Burma)",
          "Namibia",
          "Switzerland",
          "Zambia",
          "Ethiopia",
          "Jamaica",
          "United Arab Emirates",
          "South Sudan",
          "Guinea",
          "Canada",
          "Uzbekistan",
          "Macedonia",
          "Kyrgyzstan",
          "Czech Republic",
          "Mozambique",
          "Brazil",
          "Kenya",
          "Lebanon",
          "Slovenia",
          "Dominican Republic",
          "Tanzania",
          "Japan",
          "New Zealand",
          "Bosnia and Herzegovina",
          "Haiti",
          "Poland",
          "Portugal",
          "Australia",
          "Cameroon",
          "Papua New Guinea",
          "Romania",
          "Guinea-Bissau",
          "Bulgaria",
          "Nepal",
          "Austria",
          "El Salvador",
          "Egypt",
          "Kazakhstan",
          "South Africa",
          "Bahrain",
          "Colombia",
          "Hungary",
          "Pakistan",
          "United Kingdom",
          "Moldova",
          "Vietnam",
          "Mali",
          "Netherlands"
         ],
         "type": "choropleth",
         "z": [
          1,
          191,
          6,
          11,
          56,
          100,
          326,
          1,
          5,
          72,
          82,
          632,
          198,
          907,
          26,
          21,
          17,
          17,
          40,
          1222,
          4,
          5,
          20,
          93,
          1,
          4,
          191,
          60,
          71,
          24,
          6,
          3,
          27,
          10,
          34,
          315,
          60,
          23,
          73,
          6,
          5009,
          925,
          785,
          42,
          32,
          80,
          2,
          11,
          20,
          2,
          410,
          26,
          5,
          529,
          24,
          37,
          16,
          429,
          369,
          8,
          4,
          31,
          17,
          4,
          82,
          13,
          312,
          51,
          138,
          2,
          187,
          211,
          199,
          9,
          209,
          96,
          48,
          82,
          15,
          1329,
          47,
          18,
          42,
          7,
          2,
          698,
          266,
          13,
          2,
          20,
          18,
          2,
          9,
          7,
          349,
          16,
          13,
          163,
          19,
          58,
          5,
          40,
          46,
          4,
          15,
          6,
          2,
          10,
          201,
          21,
          3,
          17,
          36,
          49,
          784,
          55,
          8,
          2,
          389,
          73,
          128,
          315,
          8,
          42,
          116,
          37,
          1420,
          66,
          9,
          90,
          4,
          41,
          6,
          172,
          375,
          239,
          53,
          222,
          1,
          163,
          28,
          123,
          775,
          16,
          122,
          22,
          204
         ]
        }
       ],
       "layout": {
        "geo": {
         "lakecolor": "rgb(0,0,255)",
         "projection": {
          "type": "natural earth"
         },
         "scope": "world",
         "showlakes": true
        },
        "template": {
         "data": {
          "bar": [
           {
            "error_x": {
             "color": "#2a3f5f"
            },
            "error_y": {
             "color": "#2a3f5f"
            },
            "marker": {
             "line": {
              "color": "#E5ECF6",
              "width": 0.5
             }
            },
            "type": "bar"
           }
          ],
          "barpolar": [
           {
            "marker": {
             "line": {
              "color": "#E5ECF6",
              "width": 0.5
             }
            },
            "type": "barpolar"
           }
          ],
          "carpet": [
           {
            "aaxis": {
             "endlinecolor": "#2a3f5f",
             "gridcolor": "white",
             "linecolor": "white",
             "minorgridcolor": "white",
             "startlinecolor": "#2a3f5f"
            },
            "baxis": {
             "endlinecolor": "#2a3f5f",
             "gridcolor": "white",
             "linecolor": "white",
             "minorgridcolor": "white",
             "startlinecolor": "#2a3f5f"
            },
            "type": "carpet"
           }
          ],
          "choropleth": [
           {
            "colorbar": {
             "outlinewidth": 0,
             "ticks": ""
            },
            "type": "choropleth"
           }
          ],
          "contour": [
           {
            "colorbar": {
             "outlinewidth": 0,
             "ticks": ""
            },
            "colorscale": [
             [
              0,
              "#0d0887"
             ],
             [
              0.1111111111111111,
              "#46039f"
             ],
             [
              0.2222222222222222,
              "#7201a8"
             ],
             [
              0.3333333333333333,
              "#9c179e"
             ],
             [
              0.4444444444444444,
              "#bd3786"
             ],
             [
              0.5555555555555556,
              "#d8576b"
             ],
             [
              0.6666666666666666,
              "#ed7953"
             ],
             [
              0.7777777777777778,
              "#fb9f3a"
             ],
             [
              0.8888888888888888,
              "#fdca26"
             ],
             [
              1,
              "#f0f921"
             ]
            ],
            "type": "contour"
           }
          ],
          "contourcarpet": [
           {
            "colorbar": {
             "outlinewidth": 0,
             "ticks": ""
            },
            "type": "contourcarpet"
           }
          ],
          "heatmap": [
           {
            "colorbar": {
             "outlinewidth": 0,
             "ticks": ""
            },
            "colorscale": [
             [
              0,
              "#0d0887"
             ],
             [
              0.1111111111111111,
              "#46039f"
             ],
             [
              0.2222222222222222,
              "#7201a8"
             ],
             [
              0.3333333333333333,
              "#9c179e"
             ],
             [
              0.4444444444444444,
              "#bd3786"
             ],
             [
              0.5555555555555556,
              "#d8576b"
             ],
             [
              0.6666666666666666,
              "#ed7953"
             ],
             [
              0.7777777777777778,
              "#fb9f3a"
             ],
             [
              0.8888888888888888,
              "#fdca26"
             ],
             [
              1,
              "#f0f921"
             ]
            ],
            "type": "heatmap"
           }
          ],
          "heatmapgl": [
           {
            "colorbar": {
             "outlinewidth": 0,
             "ticks": ""
            },
            "colorscale": [
             [
              0,
              "#0d0887"
             ],
             [
              0.1111111111111111,
              "#46039f"
             ],
             [
              0.2222222222222222,
              "#7201a8"
             ],
             [
              0.3333333333333333,
              "#9c179e"
             ],
             [
              0.4444444444444444,
              "#bd3786"
             ],
             [
              0.5555555555555556,
              "#d8576b"
             ],
             [
              0.6666666666666666,
              "#ed7953"
             ],
             [
              0.7777777777777778,
              "#fb9f3a"
             ],
             [
              0.8888888888888888,
              "#fdca26"
             ],
             [
              1,
              "#f0f921"
             ]
            ],
            "type": "heatmapgl"
           }
          ],
          "histogram": [
           {
            "marker": {
             "colorbar": {
              "outlinewidth": 0,
              "ticks": ""
             }
            },
            "type": "histogram"
           }
          ],
          "histogram2d": [
           {
            "colorbar": {
             "outlinewidth": 0,
             "ticks": ""
            },
            "colorscale": [
             [
              0,
              "#0d0887"
             ],
             [
              0.1111111111111111,
              "#46039f"
             ],
             [
              0.2222222222222222,
              "#7201a8"
             ],
             [
              0.3333333333333333,
              "#9c179e"
             ],
             [
              0.4444444444444444,
              "#bd3786"
             ],
             [
              0.5555555555555556,
              "#d8576b"
             ],
             [
              0.6666666666666666,
              "#ed7953"
             ],
             [
              0.7777777777777778,
              "#fb9f3a"
             ],
             [
              0.8888888888888888,
              "#fdca26"
             ],
             [
              1,
              "#f0f921"
             ]
            ],
            "type": "histogram2d"
           }
          ],
          "histogram2dcontour": [
           {
            "colorbar": {
             "outlinewidth": 0,
             "ticks": ""
            },
            "colorscale": [
             [
              0,
              "#0d0887"
             ],
             [
              0.1111111111111111,
              "#46039f"
             ],
             [
              0.2222222222222222,
              "#7201a8"
             ],
             [
              0.3333333333333333,
              "#9c179e"
             ],
             [
              0.4444444444444444,
              "#bd3786"
             ],
             [
              0.5555555555555556,
              "#d8576b"
             ],
             [
              0.6666666666666666,
              "#ed7953"
             ],
             [
              0.7777777777777778,
              "#fb9f3a"
             ],
             [
              0.8888888888888888,
              "#fdca26"
             ],
             [
              1,
              "#f0f921"
             ]
            ],
            "type": "histogram2dcontour"
           }
          ],
          "mesh3d": [
           {
            "colorbar": {
             "outlinewidth": 0,
             "ticks": ""
            },
            "type": "mesh3d"
           }
          ],
          "parcoords": [
           {
            "line": {
             "colorbar": {
              "outlinewidth": 0,
              "ticks": ""
             }
            },
            "type": "parcoords"
           }
          ],
          "pie": [
           {
            "automargin": true,
            "type": "pie"
           }
          ],
          "scatter": [
           {
            "marker": {
             "colorbar": {
              "outlinewidth": 0,
              "ticks": ""
             }
            },
            "type": "scatter"
           }
          ],
          "scatter3d": [
           {
            "line": {
             "colorbar": {
              "outlinewidth": 0,
              "ticks": ""
             }
            },
            "marker": {
             "colorbar": {
              "outlinewidth": 0,
              "ticks": ""
             }
            },
            "type": "scatter3d"
           }
          ],
          "scattercarpet": [
           {
            "marker": {
             "colorbar": {
              "outlinewidth": 0,
              "ticks": ""
             }
            },
            "type": "scattercarpet"
           }
          ],
          "scattergeo": [
           {
            "marker": {
             "colorbar": {
              "outlinewidth": 0,
              "ticks": ""
             }
            },
            "type": "scattergeo"
           }
          ],
          "scattergl": [
           {
            "marker": {
             "colorbar": {
              "outlinewidth": 0,
              "ticks": ""
             }
            },
            "type": "scattergl"
           }
          ],
          "scattermapbox": [
           {
            "marker": {
             "colorbar": {
              "outlinewidth": 0,
              "ticks": ""
             }
            },
            "type": "scattermapbox"
           }
          ],
          "scatterpolar": [
           {
            "marker": {
             "colorbar": {
              "outlinewidth": 0,
              "ticks": ""
             }
            },
            "type": "scatterpolar"
           }
          ],
          "scatterpolargl": [
           {
            "marker": {
             "colorbar": {
              "outlinewidth": 0,
              "ticks": ""
             }
            },
            "type": "scatterpolargl"
           }
          ],
          "scatterternary": [
           {
            "marker": {
             "colorbar": {
              "outlinewidth": 0,
              "ticks": ""
             }
            },
            "type": "scatterternary"
           }
          ],
          "surface": [
           {
            "colorbar": {
             "outlinewidth": 0,
             "ticks": ""
            },
            "colorscale": [
             [
              0,
              "#0d0887"
             ],
             [
              0.1111111111111111,
              "#46039f"
             ],
             [
              0.2222222222222222,
              "#7201a8"
             ],
             [
              0.3333333333333333,
              "#9c179e"
             ],
             [
              0.4444444444444444,
              "#bd3786"
             ],
             [
              0.5555555555555556,
              "#d8576b"
             ],
             [
              0.6666666666666666,
              "#ed7953"
             ],
             [
              0.7777777777777778,
              "#fb9f3a"
             ],
             [
              0.8888888888888888,
              "#fdca26"
             ],
             [
              1,
              "#f0f921"
             ]
            ],
            "type": "surface"
           }
          ],
          "table": [
           {
            "cells": {
             "fill": {
              "color": "#EBF0F8"
             },
             "line": {
              "color": "white"
             }
            },
            "header": {
             "fill": {
              "color": "#C8D4E3"
             },
             "line": {
              "color": "white"
             }
            },
            "type": "table"
           }
          ]
         },
         "layout": {
          "annotationdefaults": {
           "arrowcolor": "#2a3f5f",
           "arrowhead": 0,
           "arrowwidth": 1
          },
          "coloraxis": {
           "colorbar": {
            "outlinewidth": 0,
            "ticks": ""
           }
          },
          "colorscale": {
           "diverging": [
            [
             0,
             "#8e0152"
            ],
            [
             0.1,
             "#c51b7d"
            ],
            [
             0.2,
             "#de77ae"
            ],
            [
             0.3,
             "#f1b6da"
            ],
            [
             0.4,
             "#fde0ef"
            ],
            [
             0.5,
             "#f7f7f7"
            ],
            [
             0.6,
             "#e6f5d0"
            ],
            [
             0.7,
             "#b8e186"
            ],
            [
             0.8,
             "#7fbc41"
            ],
            [
             0.9,
             "#4d9221"
            ],
            [
             1,
             "#276419"
            ]
           ],
           "sequential": [
            [
             0,
             "#0d0887"
            ],
            [
             0.1111111111111111,
             "#46039f"
            ],
            [
             0.2222222222222222,
             "#7201a8"
            ],
            [
             0.3333333333333333,
             "#9c179e"
            ],
            [
             0.4444444444444444,
             "#bd3786"
            ],
            [
             0.5555555555555556,
             "#d8576b"
            ],
            [
             0.6666666666666666,
             "#ed7953"
            ],
            [
             0.7777777777777778,
             "#fb9f3a"
            ],
            [
             0.8888888888888888,
             "#fdca26"
            ],
            [
             1,
             "#f0f921"
            ]
           ],
           "sequentialminus": [
            [
             0,
             "#0d0887"
            ],
            [
             0.1111111111111111,
             "#46039f"
            ],
            [
             0.2222222222222222,
             "#7201a8"
            ],
            [
             0.3333333333333333,
             "#9c179e"
            ],
            [
             0.4444444444444444,
             "#bd3786"
            ],
            [
             0.5555555555555556,
             "#d8576b"
            ],
            [
             0.6666666666666666,
             "#ed7953"
            ],
            [
             0.7777777777777778,
             "#fb9f3a"
            ],
            [
             0.8888888888888888,
             "#fdca26"
            ],
            [
             1,
             "#f0f921"
            ]
           ]
          },
          "colorway": [
           "#636efa",
           "#EF553B",
           "#00cc96",
           "#ab63fa",
           "#FFA15A",
           "#19d3f3",
           "#FF6692",
           "#B6E880",
           "#FF97FF",
           "#FECB52"
          ],
          "font": {
           "color": "#2a3f5f"
          },
          "geo": {
           "bgcolor": "white",
           "lakecolor": "white",
           "landcolor": "#E5ECF6",
           "showlakes": true,
           "showland": true,
           "subunitcolor": "white"
          },
          "hoverlabel": {
           "align": "left"
          },
          "hovermode": "closest",
          "mapbox": {
           "style": "light"
          },
          "paper_bgcolor": "white",
          "plot_bgcolor": "#E5ECF6",
          "polar": {
           "angularaxis": {
            "gridcolor": "white",
            "linecolor": "white",
            "ticks": ""
           },
           "bgcolor": "#E5ECF6",
           "radialaxis": {
            "gridcolor": "white",
            "linecolor": "white",
            "ticks": ""
           }
          },
          "scene": {
           "xaxis": {
            "backgroundcolor": "#E5ECF6",
            "gridcolor": "white",
            "gridwidth": 2,
            "linecolor": "white",
            "showbackground": true,
            "ticks": "",
            "zerolinecolor": "white"
           },
           "yaxis": {
            "backgroundcolor": "#E5ECF6",
            "gridcolor": "white",
            "gridwidth": 2,
            "linecolor": "white",
            "showbackground": true,
            "ticks": "",
            "zerolinecolor": "white"
           },
           "zaxis": {
            "backgroundcolor": "#E5ECF6",
            "gridcolor": "white",
            "gridwidth": 2,
            "linecolor": "white",
            "showbackground": true,
            "ticks": "",
            "zerolinecolor": "white"
           }
          },
          "shapedefaults": {
           "line": {
            "color": "#2a3f5f"
           }
          },
          "ternary": {
           "aaxis": {
            "gridcolor": "white",
            "linecolor": "white",
            "ticks": ""
           },
           "baxis": {
            "gridcolor": "white",
            "linecolor": "white",
            "ticks": ""
           },
           "bgcolor": "#E5ECF6",
           "caxis": {
            "gridcolor": "white",
            "linecolor": "white",
            "ticks": ""
           }
          },
          "title": {
           "x": 0.05
          },
          "xaxis": {
           "automargin": true,
           "gridcolor": "white",
           "linecolor": "white",
           "ticks": "",
           "title": {
            "standoff": 15
           },
           "zerolinecolor": "white",
           "zerolinewidth": 2
          },
          "yaxis": {
           "automargin": true,
           "gridcolor": "white",
           "linecolor": "white",
           "ticks": "",
           "title": {
            "standoff": 15
           },
           "zerolinecolor": "white",
           "zerolinewidth": 2
          }
         }
        }
       }
      },
      "text/html": [
       "<div>\n",
       "        \n",
       "        \n",
       "            <div id=\"56aa1562-36b7-421d-b49e-d155a30040b9\" class=\"plotly-graph-div\" style=\"height:525px; width:100%;\"></div>\n",
       "            <script type=\"text/javascript\">\n",
       "                require([\"plotly\"], function(Plotly) {\n",
       "                    window.PLOTLYENV=window.PLOTLYENV || {};\n",
       "                    \n",
       "                if (document.getElementById(\"56aa1562-36b7-421d-b49e-d155a30040b9\")) {\n",
       "                    Plotly.newPlot(\n",
       "                        '56aa1562-36b7-421d-b49e-d155a30040b9',\n",
       "                        [{\"autocolorscale\": true, \"colorbar\": {\"title\": {\"text\": \"Orders\"}}, \"locationmode\": \"country names\", \"locations\": [\"Chad\", \"Russia\", \"Paraguay\", \"Yemen\", \"Senegal\", \"Sweden\", \"Philippines\", \"Eritrea\", \"Djibouti\", \"Singapore\", \"Malaysia\", \"Turkey\", \"Iraq\", \"Germany\", \"Afghanistan\", \"Cambodia\", \"Rwanda\", \"Jordan\", \"Sudan\", \"France\", \"Sri Lanka\", \"Taiwan\", \"Togo\", \"Algeria\", \"Equatorial Guinea\", \"Slovakia\", \"Argentina\", \"Angola\", \"Belgium\", \"Ecuador\", \"Qatar\", \"Lesotho\", \"Madagascar\", \"Albania\", \"Finland\", \"Nicaragua\", \"Ghana\", \"Benin\", \"Peru\", \"Sierra Leone\", \"United States\", \"China\", \"India\", \"Belarus\", \"Somalia\", \"Chile\", \"Tajikistan\", \"Martinique\", \"Croatia\", \"Burundi\", \"Nigeria\", \"Bolivia\", \"Gabon\", \"Italy\", \"Lithuania\", \"Norway\", \"Turkmenistan\", \"Spain\", \"Cuba\", \"Mauritania\", \"Guadeloupe\", \"Denmark\", \"Niger\", \"Central African Republic\", \"Bangladesh\", \"Barbados\", \"Iran\", \"Ireland\", \"Thailand\", \"Swaziland\", \"Democratic Republic of the Congo\", \"Morocco\", \"Panama\", \"Hong Kong\", \"Ukraine\", \"Venezuela\", \"Israel\", \"South Korea\", \"Uruguay\", \"Mexico\", \"Cote d'Ivoire\", \"Georgia\", \"Zimbabwe\", \"Estonia\", \"Montenegro\", \"Indonesia\", \"Guatemala\", \"Mongolia\", \"Republic of the Congo\", \"Azerbaijan\", \"Libya\", \"Armenia\", \"Tunisia\", \"Liberia\", \"Honduras\", \"Syria\", \"Trinidad and Tobago\", \"Saudi Arabia\", \"Uganda\", \"Myanmar (Burma)\", \"Namibia\", \"Switzerland\", \"Zambia\", \"Ethiopia\", \"Jamaica\", \"United Arab Emirates\", \"South Sudan\", \"Guinea\", \"Canada\", \"Uzbekistan\", \"Macedonia\", \"Kyrgyzstan\", \"Czech Republic\", \"Mozambique\", \"Brazil\", \"Kenya\", \"Lebanon\", \"Slovenia\", \"Dominican Republic\", \"Tanzania\", \"Japan\", \"New Zealand\", \"Bosnia and Herzegovina\", \"Haiti\", \"Poland\", \"Portugal\", \"Australia\", \"Cameroon\", \"Papua New Guinea\", \"Romania\", \"Guinea-Bissau\", \"Bulgaria\", \"Nepal\", \"Austria\", \"El Salvador\", \"Egypt\", \"Kazakhstan\", \"South Africa\", \"Bahrain\", \"Colombia\", \"Hungary\", \"Pakistan\", \"United Kingdom\", \"Moldova\", \"Vietnam\", \"Mali\", \"Netherlands\"], \"text\": [\"Chad\", \"Russia\", \"Paraguay\", \"Yemen\", \"Senegal\", \"Sweden\", \"Philippines\", \"Eritrea\", \"Djibouti\", \"Singapore\", \"Malaysia\", \"Turkey\", \"Iraq\", \"Germany\", \"Afghanistan\", \"Cambodia\", \"Rwanda\", \"Jordan\", \"Sudan\", \"France\", \"Sri Lanka\", \"Taiwan\", \"Togo\", \"Algeria\", \"Equatorial Guinea\", \"Slovakia\", \"Argentina\", \"Angola\", \"Belgium\", \"Ecuador\", \"Qatar\", \"Lesotho\", \"Madagascar\", \"Albania\", \"Finland\", \"Nicaragua\", \"Ghana\", \"Benin\", \"Peru\", \"Sierra Leone\", \"United States\", \"China\", \"India\", \"Belarus\", \"Somalia\", \"Chile\", \"Tajikistan\", \"Martinique\", \"Croatia\", \"Burundi\", \"Nigeria\", \"Bolivia\", \"Gabon\", \"Italy\", \"Lithuania\", \"Norway\", \"Turkmenistan\", \"Spain\", \"Cuba\", \"Mauritania\", \"Guadeloupe\", \"Denmark\", \"Niger\", \"Central African Republic\", \"Bangladesh\", \"Barbados\", \"Iran\", \"Ireland\", \"Thailand\", \"Swaziland\", \"Democratic Republic of the Congo\", \"Morocco\", \"Panama\", \"Hong Kong\", \"Ukraine\", \"Venezuela\", \"Israel\", \"South Korea\", \"Uruguay\", \"Mexico\", \"Cote d'Ivoire\", \"Georgia\", \"Zimbabwe\", \"Estonia\", \"Montenegro\", \"Indonesia\", \"Guatemala\", \"Mongolia\", \"Republic of the Congo\", \"Azerbaijan\", \"Libya\", \"Armenia\", \"Tunisia\", \"Liberia\", \"Honduras\", \"Syria\", \"Trinidad and Tobago\", \"Saudi Arabia\", \"Uganda\", \"Myanmar (Burma)\", \"Namibia\", \"Switzerland\", \"Zambia\", \"Ethiopia\", \"Jamaica\", \"United Arab Emirates\", \"South Sudan\", \"Guinea\", \"Canada\", \"Uzbekistan\", \"Macedonia\", \"Kyrgyzstan\", \"Czech Republic\", \"Mozambique\", \"Brazil\", \"Kenya\", \"Lebanon\", \"Slovenia\", \"Dominican Republic\", \"Tanzania\", \"Japan\", \"New Zealand\", \"Bosnia and Herzegovina\", \"Haiti\", \"Poland\", \"Portugal\", \"Australia\", \"Cameroon\", \"Papua New Guinea\", \"Romania\", \"Guinea-Bissau\", \"Bulgaria\", \"Nepal\", \"Austria\", \"El Salvador\", \"Egypt\", \"Kazakhstan\", \"South Africa\", \"Bahrain\", \"Colombia\", \"Hungary\", \"Pakistan\", \"United Kingdom\", \"Moldova\", \"Vietnam\", \"Mali\", \"Netherlands\"], \"type\": \"choropleth\", \"z\": [1, 191, 6, 11, 56, 100, 326, 1, 5, 72, 82, 632, 198, 907, 26, 21, 17, 17, 40, 1222, 4, 5, 20, 93, 1, 4, 191, 60, 71, 24, 6, 3, 27, 10, 34, 315, 60, 23, 73, 6, 5009, 925, 785, 42, 32, 80, 2, 11, 20, 2, 410, 26, 5, 529, 24, 37, 16, 429, 369, 8, 4, 31, 17, 4, 82, 13, 312, 51, 138, 2, 187, 211, 199, 9, 209, 96, 48, 82, 15, 1329, 47, 18, 42, 7, 2, 698, 266, 13, 2, 20, 18, 2, 9, 7, 349, 16, 13, 163, 19, 58, 5, 40, 46, 4, 15, 6, 2, 10, 201, 21, 3, 17, 36, 49, 784, 55, 8, 2, 389, 73, 128, 315, 8, 42, 116, 37, 1420, 66, 9, 90, 4, 41, 6, 172, 375, 239, 53, 222, 1, 163, 28, 123, 775, 16, 122, 22, 204]}],\n",
       "                        {\"geo\": {\"lakecolor\": \"rgb(0,0,255)\", \"projection\": {\"type\": \"natural earth\"}, \"scope\": \"world\", \"showlakes\": true}, \"template\": {\"data\": {\"bar\": [{\"error_x\": {\"color\": \"#2a3f5f\"}, \"error_y\": {\"color\": \"#2a3f5f\"}, \"marker\": {\"line\": {\"color\": \"#E5ECF6\", \"width\": 0.5}}, \"type\": \"bar\"}], \"barpolar\": [{\"marker\": {\"line\": {\"color\": \"#E5ECF6\", \"width\": 0.5}}, \"type\": \"barpolar\"}], \"carpet\": [{\"aaxis\": {\"endlinecolor\": \"#2a3f5f\", \"gridcolor\": \"white\", \"linecolor\": \"white\", \"minorgridcolor\": \"white\", \"startlinecolor\": \"#2a3f5f\"}, \"baxis\": {\"endlinecolor\": \"#2a3f5f\", \"gridcolor\": \"white\", \"linecolor\": \"white\", \"minorgridcolor\": \"white\", \"startlinecolor\": \"#2a3f5f\"}, \"type\": \"carpet\"}], \"choropleth\": [{\"colorbar\": {\"outlinewidth\": 0, \"ticks\": \"\"}, \"type\": \"choropleth\"}], \"contour\": [{\"colorbar\": {\"outlinewidth\": 0, \"ticks\": \"\"}, \"colorscale\": [[0.0, \"#0d0887\"], [0.1111111111111111, \"#46039f\"], [0.2222222222222222, \"#7201a8\"], [0.3333333333333333, \"#9c179e\"], [0.4444444444444444, \"#bd3786\"], [0.5555555555555556, \"#d8576b\"], [0.6666666666666666, \"#ed7953\"], [0.7777777777777778, \"#fb9f3a\"], [0.8888888888888888, \"#fdca26\"], [1.0, \"#f0f921\"]], \"type\": \"contour\"}], \"contourcarpet\": [{\"colorbar\": {\"outlinewidth\": 0, \"ticks\": \"\"}, \"type\": \"contourcarpet\"}], \"heatmap\": [{\"colorbar\": {\"outlinewidth\": 0, \"ticks\": \"\"}, \"colorscale\": [[0.0, \"#0d0887\"], [0.1111111111111111, \"#46039f\"], [0.2222222222222222, \"#7201a8\"], [0.3333333333333333, \"#9c179e\"], [0.4444444444444444, \"#bd3786\"], [0.5555555555555556, \"#d8576b\"], [0.6666666666666666, \"#ed7953\"], [0.7777777777777778, \"#fb9f3a\"], [0.8888888888888888, \"#fdca26\"], [1.0, \"#f0f921\"]], \"type\": \"heatmap\"}], \"heatmapgl\": [{\"colorbar\": {\"outlinewidth\": 0, \"ticks\": \"\"}, \"colorscale\": [[0.0, \"#0d0887\"], [0.1111111111111111, \"#46039f\"], [0.2222222222222222, \"#7201a8\"], [0.3333333333333333, \"#9c179e\"], [0.4444444444444444, \"#bd3786\"], [0.5555555555555556, \"#d8576b\"], [0.6666666666666666, \"#ed7953\"], [0.7777777777777778, \"#fb9f3a\"], [0.8888888888888888, \"#fdca26\"], [1.0, \"#f0f921\"]], \"type\": \"heatmapgl\"}], \"histogram\": [{\"marker\": {\"colorbar\": {\"outlinewidth\": 0, \"ticks\": \"\"}}, \"type\": \"histogram\"}], \"histogram2d\": [{\"colorbar\": {\"outlinewidth\": 0, \"ticks\": \"\"}, \"colorscale\": [[0.0, \"#0d0887\"], [0.1111111111111111, \"#46039f\"], [0.2222222222222222, \"#7201a8\"], [0.3333333333333333, \"#9c179e\"], [0.4444444444444444, \"#bd3786\"], [0.5555555555555556, \"#d8576b\"], [0.6666666666666666, \"#ed7953\"], [0.7777777777777778, \"#fb9f3a\"], [0.8888888888888888, \"#fdca26\"], [1.0, \"#f0f921\"]], \"type\": \"histogram2d\"}], \"histogram2dcontour\": [{\"colorbar\": {\"outlinewidth\": 0, \"ticks\": \"\"}, \"colorscale\": [[0.0, \"#0d0887\"], [0.1111111111111111, \"#46039f\"], [0.2222222222222222, \"#7201a8\"], [0.3333333333333333, \"#9c179e\"], [0.4444444444444444, \"#bd3786\"], [0.5555555555555556, \"#d8576b\"], [0.6666666666666666, \"#ed7953\"], [0.7777777777777778, \"#fb9f3a\"], [0.8888888888888888, \"#fdca26\"], [1.0, \"#f0f921\"]], \"type\": \"histogram2dcontour\"}], \"mesh3d\": [{\"colorbar\": {\"outlinewidth\": 0, \"ticks\": \"\"}, \"type\": \"mesh3d\"}], \"parcoords\": [{\"line\": {\"colorbar\": {\"outlinewidth\": 0, \"ticks\": \"\"}}, \"type\": \"parcoords\"}], \"pie\": [{\"automargin\": true, \"type\": \"pie\"}], \"scatter\": [{\"marker\": {\"colorbar\": {\"outlinewidth\": 0, \"ticks\": \"\"}}, \"type\": \"scatter\"}], \"scatter3d\": [{\"line\": {\"colorbar\": {\"outlinewidth\": 0, \"ticks\": \"\"}}, \"marker\": {\"colorbar\": {\"outlinewidth\": 0, \"ticks\": \"\"}}, \"type\": \"scatter3d\"}], \"scattercarpet\": [{\"marker\": {\"colorbar\": {\"outlinewidth\": 0, \"ticks\": \"\"}}, \"type\": \"scattercarpet\"}], \"scattergeo\": [{\"marker\": {\"colorbar\": {\"outlinewidth\": 0, \"ticks\": \"\"}}, \"type\": \"scattergeo\"}], \"scattergl\": [{\"marker\": {\"colorbar\": {\"outlinewidth\": 0, \"ticks\": \"\"}}, \"type\": \"scattergl\"}], \"scattermapbox\": [{\"marker\": {\"colorbar\": {\"outlinewidth\": 0, \"ticks\": \"\"}}, \"type\": \"scattermapbox\"}], \"scatterpolar\": [{\"marker\": {\"colorbar\": {\"outlinewidth\": 0, \"ticks\": \"\"}}, \"type\": \"scatterpolar\"}], \"scatterpolargl\": [{\"marker\": {\"colorbar\": {\"outlinewidth\": 0, \"ticks\": \"\"}}, \"type\": \"scatterpolargl\"}], \"scatterternary\": [{\"marker\": {\"colorbar\": {\"outlinewidth\": 0, \"ticks\": \"\"}}, \"type\": \"scatterternary\"}], \"surface\": [{\"colorbar\": {\"outlinewidth\": 0, \"ticks\": \"\"}, \"colorscale\": [[0.0, \"#0d0887\"], [0.1111111111111111, \"#46039f\"], [0.2222222222222222, \"#7201a8\"], [0.3333333333333333, \"#9c179e\"], [0.4444444444444444, \"#bd3786\"], [0.5555555555555556, \"#d8576b\"], [0.6666666666666666, \"#ed7953\"], [0.7777777777777778, \"#fb9f3a\"], [0.8888888888888888, \"#fdca26\"], [1.0, \"#f0f921\"]], \"type\": \"surface\"}], \"table\": [{\"cells\": {\"fill\": {\"color\": \"#EBF0F8\"}, \"line\": {\"color\": \"white\"}}, \"header\": {\"fill\": {\"color\": \"#C8D4E3\"}, \"line\": {\"color\": \"white\"}}, \"type\": \"table\"}]}, \"layout\": {\"annotationdefaults\": {\"arrowcolor\": \"#2a3f5f\", \"arrowhead\": 0, \"arrowwidth\": 1}, \"coloraxis\": {\"colorbar\": {\"outlinewidth\": 0, \"ticks\": \"\"}}, \"colorscale\": {\"diverging\": [[0, \"#8e0152\"], [0.1, \"#c51b7d\"], [0.2, \"#de77ae\"], [0.3, \"#f1b6da\"], [0.4, \"#fde0ef\"], [0.5, \"#f7f7f7\"], [0.6, \"#e6f5d0\"], [0.7, \"#b8e186\"], [0.8, \"#7fbc41\"], [0.9, \"#4d9221\"], [1, \"#276419\"]], \"sequential\": [[0.0, \"#0d0887\"], [0.1111111111111111, \"#46039f\"], [0.2222222222222222, \"#7201a8\"], [0.3333333333333333, \"#9c179e\"], [0.4444444444444444, \"#bd3786\"], [0.5555555555555556, \"#d8576b\"], [0.6666666666666666, \"#ed7953\"], [0.7777777777777778, \"#fb9f3a\"], [0.8888888888888888, \"#fdca26\"], [1.0, \"#f0f921\"]], \"sequentialminus\": [[0.0, \"#0d0887\"], [0.1111111111111111, \"#46039f\"], [0.2222222222222222, \"#7201a8\"], [0.3333333333333333, \"#9c179e\"], [0.4444444444444444, \"#bd3786\"], [0.5555555555555556, \"#d8576b\"], [0.6666666666666666, \"#ed7953\"], [0.7777777777777778, \"#fb9f3a\"], [0.8888888888888888, \"#fdca26\"], [1.0, \"#f0f921\"]]}, \"colorway\": [\"#636efa\", \"#EF553B\", \"#00cc96\", \"#ab63fa\", \"#FFA15A\", \"#19d3f3\", \"#FF6692\", \"#B6E880\", \"#FF97FF\", \"#FECB52\"], \"font\": {\"color\": \"#2a3f5f\"}, \"geo\": {\"bgcolor\": \"white\", \"lakecolor\": \"white\", \"landcolor\": \"#E5ECF6\", \"showlakes\": true, \"showland\": true, \"subunitcolor\": \"white\"}, \"hoverlabel\": {\"align\": \"left\"}, \"hovermode\": \"closest\", \"mapbox\": {\"style\": \"light\"}, \"paper_bgcolor\": \"white\", \"plot_bgcolor\": \"#E5ECF6\", \"polar\": {\"angularaxis\": {\"gridcolor\": \"white\", \"linecolor\": \"white\", \"ticks\": \"\"}, \"bgcolor\": \"#E5ECF6\", \"radialaxis\": {\"gridcolor\": \"white\", \"linecolor\": \"white\", \"ticks\": \"\"}}, \"scene\": {\"xaxis\": {\"backgroundcolor\": \"#E5ECF6\", \"gridcolor\": \"white\", \"gridwidth\": 2, \"linecolor\": \"white\", \"showbackground\": true, \"ticks\": \"\", \"zerolinecolor\": \"white\"}, \"yaxis\": {\"backgroundcolor\": \"#E5ECF6\", \"gridcolor\": \"white\", \"gridwidth\": 2, \"linecolor\": \"white\", \"showbackground\": true, \"ticks\": \"\", \"zerolinecolor\": \"white\"}, \"zaxis\": {\"backgroundcolor\": \"#E5ECF6\", \"gridcolor\": \"white\", \"gridwidth\": 2, \"linecolor\": \"white\", \"showbackground\": true, \"ticks\": \"\", \"zerolinecolor\": \"white\"}}, \"shapedefaults\": {\"line\": {\"color\": \"#2a3f5f\"}}, \"ternary\": {\"aaxis\": {\"gridcolor\": \"white\", \"linecolor\": \"white\", \"ticks\": \"\"}, \"baxis\": {\"gridcolor\": \"white\", \"linecolor\": \"white\", \"ticks\": \"\"}, \"bgcolor\": \"#E5ECF6\", \"caxis\": {\"gridcolor\": \"white\", \"linecolor\": \"white\", \"ticks\": \"\"}}, \"title\": {\"x\": 0.05}, \"xaxis\": {\"automargin\": true, \"gridcolor\": \"white\", \"linecolor\": \"white\", \"ticks\": \"\", \"title\": {\"standoff\": 15}, \"zerolinecolor\": \"white\", \"zerolinewidth\": 2}, \"yaxis\": {\"automargin\": true, \"gridcolor\": \"white\", \"linecolor\": \"white\", \"ticks\": \"\", \"title\": {\"standoff\": 15}, \"zerolinecolor\": \"white\", \"zerolinewidth\": 2}}}},\n",
       "                        {\"responsive\": true}\n",
       "                    ).then(function(){\n",
       "                            \n",
       "var gd = document.getElementById('56aa1562-36b7-421d-b49e-d155a30040b9');\n",
       "var x = new MutationObserver(function (mutations, observer) {{\n",
       "        var display = window.getComputedStyle(gd).display;\n",
       "        if (!display || display === 'none') {{\n",
       "            console.log([gd, 'removed!']);\n",
       "            Plotly.purge(gd);\n",
       "            observer.disconnect();\n",
       "        }}\n",
       "}});\n",
       "\n",
       "// Listen for the removal of the full notebook cells\n",
       "var notebookContainer = gd.closest('#notebook-container');\n",
       "if (notebookContainer) {{\n",
       "    x.observe(notebookContainer, {childList: true});\n",
       "}}\n",
       "\n",
       "// Listen for the clearing of the current output cell\n",
       "var outputEl = gd.closest('.output');\n",
       "if (outputEl) {{\n",
       "    x.observe(outputEl, {childList: true});\n",
       "}}\n",
       "\n",
       "                        })\n",
       "                };\n",
       "                });\n",
       "            </script>\n",
       "        </div>"
      ]
     },
     "metadata": {},
     "output_type": "display_data"
    }
   ],
   "source": [
    "countries=most_country.rdd.map(lambda x: x[0]).collect()\n",
    "vs=most_country.rdd.map(lambda x: x[1]).collect()\n",
    "\n",
    "dt=[dict(type=\"choropleth\", autocolorscale=True, locations=countries, z=vs, locationmode=\"country names\", text=countries, colorbar= dict(title='Orders'))]\n",
    "layout=dict(geo=dict(scope=\"world\", projection=dict(type=\"natural earth\"), showlakes=True, lakecolor='rgb(0,0,255)'))\n",
    "\n",
    "fig=dict(data=dt, layout=layout)\n",
    "pio.show(fig)"
   ]
  },
  {
   "cell_type": "code",
   "execution_count": null,
   "metadata": {},
   "outputs": [],
   "source": []
  },
  {
   "cell_type": "markdown",
   "metadata": {},
   "source": [
    "# Market with the most orders"
   ]
  },
  {
   "cell_type": "code",
   "execution_count": 12,
   "metadata": {},
   "outputs": [
    {
     "name": "stdout",
     "output_type": "stream",
     "text": [
      "+------+-------------+\n",
      "|Market|Total Ordered|\n",
      "+------+-------------+\n",
      "|    US|        57975|\n",
      "|  APAC|        41226|\n",
      "| LATAM|        38526|\n",
      "|    EU|        37773|\n",
      "|  EMEA|        11517|\n",
      "|Africa|        10564|\n",
      "|Canada|          833|\n",
      "+------+-------------+\n",
      "\n"
     ]
    }
   ],
   "source": [
    "market = data.select(data[\"Market\"], data[\"Quantity\"])\n",
    "most_market = market.groupBy(market[\"Market\"]).sum().withColumnRenamed(\"sum(Quantity)\", \"Total Ordered\")\n",
    "most_market.orderBy(most_market[\"Total Ordered\"], ascending = False).show()"
   ]
  },
  {
   "cell_type": "code",
   "execution_count": 13,
   "metadata": {},
   "outputs": [
    {
     "data": {
      "image/png": "[encoded data removed]",
      "text/plain": [
       "<Figure size 432x288 with 1 Axes>"
      ]
     },
     "metadata": {
      "needs_background": "light"
     },
     "output_type": "display_data"
    }
   ],
   "source": [
    "p = most_market.select(most_market[\"Market\"])\n",
    "o = most_market.select(most_market[\"Total Ordered\"])\n",
    "l1 = [row[\"Market\"] for row in p.collect()]\n",
    "l2 = [row[\"Total Ordered\"] for row in o.collect()]\n",
    "plt.bar(l1, l2)\n",
    "plt.xticks(l1,rotation=\"vertical\")\n",
    "plt.xlabel(\"Market\")\n",
    "plt.ylabel(\"Total Quantity Ordered\")\n",
    "plt.show()"
   ]
  },
  {
   "cell_type": "markdown",
   "metadata": {},
   "source": [
    "# Segment with most orders"
   ]
  },
  {
   "cell_type": "code",
   "execution_count": 14,
   "metadata": {},
   "outputs": [
    {
     "name": "stdout",
     "output_type": "stream",
     "text": [
      "+-----------+-------------+\n",
      "|    Segment|Total Ordered|\n",
      "+-----------+-------------+\n",
      "|   Consumer|       100554|\n",
      "|  Corporate|        61548|\n",
      "|Home Office|        36312|\n",
      "+-----------+-------------+\n",
      "\n"
     ]
    }
   ],
   "source": [
    "segm = data.select(data[\"Segment\"], data[\"Quantity\"])\n",
    "most_segm = segm.groupBy(segm[\"Segment\"]).sum().withColumnRenamed(\"sum(Quantity)\", \"Total Ordered\")\n",
    "most_segm.orderBy(most_segm[\"Total Ordered\"], ascending = False).show()"
   ]
  },
  {
   "cell_type": "code",
   "execution_count": 15,
   "metadata": {},
   "outputs": [
    {
     "data": {
      "image/png": "[encoded data removed]",
      "text/plain": [
       "<Figure size 432x288 with 1 Axes>"
      ]
     },
     "metadata": {},
     "output_type": "display_data"
    }
   ],
   "source": [
    "p = most_segm.select(most_segm[\"Segment\"])\n",
    "o = most_segm.select(most_segm[\"Total Ordered\"])\n",
    "l1 = [row[\"Segment\"] for row in p.collect()]\n",
    "l2 = [row[\"Total Ordered\"] for row in o.collect()]\n",
    "\n",
    "sizes=[100554, 61548, 36312]\n",
    "labels= \"Consumer\", \"Corporate\", \"Home Office\"\n",
    "plt.pie(sizes,labels=labels,shadow=True,autopct='%1.1f%%')\n",
    "plt.savefig('segment_orders.png', dpi=300, bbox_inches='tight')\n",
    "plt.show()"
   ]
  },
  {
   "cell_type": "markdown",
   "metadata": {},
   "source": [
    "# Most Profitable Products"
   ]
  },
  {
   "cell_type": "code",
   "execution_count": 16,
   "metadata": {},
   "outputs": [
    {
     "name": "stdout",
     "output_type": "stream",
     "text": [
      "+---------------+-------------+------------+\n",
      "|     Product ID|Total Ordered|Total Profit|\n",
      "+---------------+-------------+------------+\n",
      "|OFF-ST-10002756|         4381|        null|\n",
      "|FUR-FU-10001488|         2264|        null|\n",
      "|FUR-FU-10002298|         2061|        null|\n",
      "|OFF-ST-10004804|         1395|        null|\n",
      "|OFF-BI-10001597|         1209|        null|\n",
      "|OFF-EN-10001453|          935|        null|\n",
      "|OFF-ST-10003994|          846|        null|\n",
      "|OFF-BI-10002133|          830|        null|\n",
      "|OFF-PA-10002222|          591|        null|\n",
      "|FUR-FU-10001602|          543|        null|\n",
      "|FUR-FU-10000305|          466|        null|\n",
      "|OFF-SU-10000898|          455|        null|\n",
      "|OFF-PA-10000241|          454|        null|\n",
      "|OFF-ST-10002289|          404|        null|\n",
      "|FUR-FU-10001475|          330|        null|\n",
      "|OFF-PA-10000380|          279|        null|\n",
      "|OFF-BI-10000309|          266|        null|\n",
      "|OFF-PA-10001509|          265|        null|\n",
      "|FUR-FU-10003878|          250|        null|\n",
      "|OFF-PA-10001776|          242|        null|\n",
      "+---------------+-------------+------------+\n",
      "only showing top 20 rows\n",
      "\n",
      "None\n",
      "+----------------+-------------+------------------+\n",
      "|      Product ID|Total Ordered|      Total Profit|\n",
      "+----------------+-------------+------------------+\n",
      "| TEC-CO-10004722|         null|         25199.928|\n",
      "| OFF-AP-10004512|         null|         10345.584|\n",
      "| TEC-PH-10004823|         null|8121.4800000000005|\n",
      "| OFF-BI-10003527|         null| 7753.038999999999|\n",
      "| TEC-CO-10001449|         null| 6983.883599999999|\n",
      "| FUR-CH-10002250|         null| 6123.255299999999|\n",
      "| TEC-PH-10004664|         null| 5455.948200000001|\n",
      "| OFF-AP-10002330|         null|          5452.464|\n",
      "| TEC-PH-10000303|         null|          5356.806|\n",
      "| FUR-CH-10002203|         null|            5003.1|\n",
      "| TEC-PH-10000169|         null| 4938.557999999999|\n",
      "| FUR-BO-10004852|         null|          4861.068|\n",
      "| TEC-CO-10004997|         null|          4854.264|\n",
      "| FUR-BO-10004999|         null|          4681.857|\n",
      "| FUR-BO-10001471|         null| 4650.450000000001|\n",
      "|TEC-CAN-10001437|         null|4596.3240000000005|\n",
      "| TEC-CO-10003763|         null|         4570.9347|\n",
      "| TEC-PH-10003457|         null|          4507.816|\n",
      "| TEC-AC-10002049|         null|         4425.3432|\n",
      "| TEC-PH-10001751|         null|4338.8099999999995|\n",
      "+----------------+-------------+------------------+\n",
      "only showing top 20 rows\n",
      "\n",
      "None\n"
     ]
    }
   ],
   "source": [
    "profit = data.select(data[\"Product ID\"], data[\"Profit\"])\n",
    "prod_profit = profit.groupBy(profit[\"Product ID\"]).sum().withColumnRenamed(\"sum(Profit)\", \"Total Profit\")\n",
    "top = prod_profit.orderBy(prod_profit[\"Total Profit\"], ascending = False).limit(20)\n",
    "#print(top.show())\n",
    "mix = topten.join(top, \"Product ID\", \"full\")\n",
    "print(mix.orderBy(mix[\"Total Ordered\"], ascending = False).show())\n",
    "print(mix.orderBy(mix[\"Total Profit\"], ascending = False).show())"
   ]
  },
  {
   "cell_type": "code",
   "execution_count": 17,
   "metadata": {},
   "outputs": [
    {
     "data": {
      "image/png": "[encoded data removed]",
      "text/plain": [
       "<Figure size 432x288 with 1 Axes>"
      ]
     },
     "metadata": {
      "needs_background": "light"
     },
     "output_type": "display_data"
    }
   ],
   "source": [
    "p = top.select(top[\"Product ID\"])\n",
    "o = top.select(top[\"Total Profit\"])\n",
    "l1 = [row[\"Product ID\"] for row in p.collect()]\n",
    "l2 = [row[\"Total Profit\"] for row in o.collect()]\n",
    "plt.bar(l1, l2)\n",
    "plt.xticks(l1,rotation=\"vertical\")\n",
    "plt.xlabel(\"Product ID\")\n",
    "plt.ylabel(\"Total Profit\")\n",
    "plt.savefig('prod_profit.png', dpi=300, bbox_inches='tight')\n",
    "plt.show()"
   ]
  },
  {
   "cell_type": "markdown",
   "metadata": {},
   "source": [
    "# Most Profit per Category"
   ]
  },
  {
   "cell_type": "markdown",
   "metadata": {},
   "source": [
    "### Sub-Category"
   ]
  },
  {
   "cell_type": "code",
   "execution_count": 18,
   "metadata": {},
   "outputs": [
    {
     "name": "stdout",
     "output_type": "stream",
     "text": [
      "+------------+------------------+\n",
      "|Sub-Category|      Total Profit|\n",
      "+------------+------------------+\n",
      "|     Copiers|258567.54817999998|\n",
      "|      Phones|216650.35429999995|\n",
      "|   Bookcases|161924.41950000005|\n",
      "|  Appliances|141680.58940000008|\n",
      "|      Chairs|140396.26750000002|\n",
      "| Accessories|129626.30619999992|\n",
      "|     Storage|       108712.5717|\n",
      "|     Binders| 72266.90400000004|\n",
      "|    Machines|58867.872999999985|\n",
      "|         Art|        57953.9109|\n",
      "|       Paper| 57949.67439999999|\n",
      "| Furnishings|48202.579900000004|\n",
      "|   Envelopes|29098.208699999996|\n",
      "|    Supplies| 22424.99709999999|\n",
      "|      Labels|15010.511999999992|\n",
      "|   Fasteners|11518.543700000002|\n",
      "|      Tables|-64083.38870000001|\n",
      "+------------+------------------+\n",
      "\n"
     ]
    }
   ],
   "source": [
    "sub_profit = data.select(data[\"Sub-Category\"], data[\"Profit\"])\n",
    "most_sub_porfit = sub_profit.groupBy(sub_profit[\"Sub-Category\"]).sum().withColumnRenamed(\"sum(Profit)\", \"Total Profit\")\n",
    "most_sub_porfit.orderBy(most_sub_porfit[\"Total Profit\"], ascending = False).show()"
   ]
  },
  {
   "cell_type": "code",
   "execution_count": 19,
   "metadata": {},
   "outputs": [
    {
     "data": {
      "image/png": "[encoded data removed]",
      "text/plain": [
       "<Figure size 432x288 with 2 Axes>"
      ]
     },
     "metadata": {
      "needs_background": "light"
     },
     "output_type": "display_data"
    }
   ],
   "source": [
    "# p = most_sub_porfit.select(most_sub_porfit[\"Sub-Category\"])\n",
    "# o = most_sub_porfit.select(most_sub_porfit[\"Total Profit\"])\n",
    "# l1 = [row[\"Sub-Category\"] for row in p.collect()]\n",
    "# l2 = [row[\"Total Profit\"] for row in o.collect()]\n",
    "# plt.bar(l1, l2)\n",
    "# plt.xticks(l1,rotation=\"vertical\")\n",
    "# plt.xlabel(\"Sub-Category\")\n",
    "# plt.ylabel(\"Total Profit\")\n",
    "# plt.show()\n",
    "\n",
    "p = most_subcatg.select(most_subcatg[\"Sub-Category\"])\n",
    "o = most_subcatg.select(most_subcatg[\"Total Ordered\"])\n",
    "l1 = [row[\"Sub-Category\"] for row in p.collect()]\n",
    "l2 = [row[\"Total Ordered\"] for row in o.collect()]\n",
    "\n",
    "m = most_sub_porfit.select(most_sub_porfit[\"Sub-Category\"])\n",
    "n = most_sub_porfit.select(most_sub_porfit[\"Total Profit\"])\n",
    "l3 = [row[\"Sub-Category\"] for row in m.collect()]\n",
    "l4 = [row[\"Total Profit\"] for row in n.collect()]\n",
    "\n",
    "fig,ax2=plt.subplots()\n",
    "\n",
    "ax1=ax2.twinx()\n",
    "ax2.bar(l1, l2)\n",
    "ax1.plot(l3, l4, 'r')\n",
    "ax2.set_xlabel(\"Sub-Category\")\n",
    "ax2.set_ylabel(\"Number of Orders\")\n",
    "ax1.set_ylabel(\"Total Profit\", color = \"r\")\n",
    "ax2.set_xticklabels(l1,rotation='vertical')\n",
    "plt.savefig('Sub-Category.png', dpi=300, bbox_inches='tight')\n",
    "plt.show()"
   ]
  },
  {
   "cell_type": "markdown",
   "metadata": {},
   "source": [
    "### Category"
   ]
  },
  {
   "cell_type": "code",
   "execution_count": 20,
   "metadata": {},
   "outputs": [
    {
     "name": "stdout",
     "output_type": "stream",
     "text": [
      "+---------------+------------------+\n",
      "|       Category|      Total Profit|\n",
      "+---------------+------------------+\n",
      "|     Technology| 663712.0816800011|\n",
      "|Office Supplies| 516615.9118999997|\n",
      "|      Furniture|286439.87820000004|\n",
      "+---------------+------------------+\n",
      "\n"
     ]
    }
   ],
   "source": [
    "cat_profit = data.select(data[\"Category\"], data[\"Profit\"])\n",
    "most_cat_profit = cat_profit.groupBy(cat_profit[\"Category\"]).sum().withColumnRenamed(\"sum(Profit)\", \"Total Profit\")\n",
    "most_cat_profit.orderBy(most_cat_profit[\"Total Profit\"], ascending = False).show()"
   ]
  },
  {
   "cell_type": "code",
   "execution_count": 21,
   "metadata": {},
   "outputs": [
    {
     "data": {
      "image/png": "[encoded data removed]",
      "text/plain": [
       "<Figure size 432x288 with 1 Axes>"
      ]
     },
     "metadata": {},
     "output_type": "display_data"
    }
   ],
   "source": [
    "p = most_cat_profit.select(most_cat_profit[\"Category\"])\n",
    "o = most_cat_profit.select(most_cat_profit[\"Total Profit\"])\n",
    "l1 = [row[\"Category\"] for row in p.collect()]\n",
    "l2 = [row[\"Total Profit\"] for row in o.collect()]\n",
    "\n",
    "sizes=[663712.0816800011, 516615.9118999997, 286439.87820000004]\n",
    "labels= \"Technology\", \"Office Supplies\", \"Furniture\"\n",
    "plt.pie(sizes,labels=labels,shadow=True,autopct='%1.1f%%')\n",
    "plt.savefig('category_profit.png', dpi=300, bbox_inches='tight')\n",
    "plt.show()"
   ]
  },
  {
   "cell_type": "markdown",
   "metadata": {},
   "source": [
    "# Most profit per country "
   ]
  },
  {
   "cell_type": "code",
   "execution_count": 22,
   "metadata": {},
   "outputs": [
    {
     "name": "stdout",
     "output_type": "stream",
     "text": [
      "+--------------+------------------+\n",
      "|       Country|      Total Profit|\n",
      "+--------------+------------------+\n",
      "| United States|285707.60219999973|\n",
      "|         China|150683.08499999996|\n",
      "|         India|129071.83500000008|\n",
      "|United Kingdom|111900.14999999997|\n",
      "|        France|109029.00300000003|\n",
      "|       Germany|107322.82049999999|\n",
      "|     Australia| 103907.4330000001|\n",
      "|        Mexico|102818.09752000004|\n",
      "|         Spain| 54390.11999999997|\n",
      "|   El Salvador| 42023.24319999998|\n",
      "|          Cuba|38889.215480000006|\n",
      "|     Nicaragua| 33401.44455999999|\n",
      "|        Brazil| 30090.49896000002|\n",
      "|     Guatemala|27944.686759999997|\n",
      "|          Iran|26856.239999999998|\n",
      "|       Austria|24341.700000000004|\n",
      "|         Japan|24328.466999999993|\n",
      "|       Morocco|22761.420000000006|\n",
      "|        Russia|22536.449999999997|\n",
      "|  South Africa|21936.629999999997|\n",
      "+--------------+------------------+\n",
      "only showing top 20 rows\n",
      "\n"
     ]
    }
   ],
   "source": [
    "country_prof = data.select(data[\"Country\"], data[\"Profit\"])\n",
    "most_country_prof = country_prof.groupBy(country_prof[\"Country\"]).sum().withColumnRenamed(\"sum(Profit)\", \"Total Profit\")\n",
    "most_country_prof.orderBy(most_country_prof[\"Total Profit\"], ascending = False).show()"
   ]
  },
  {
   "cell_type": "code",
   "execution_count": 23,
   "metadata": {},
   "outputs": [
    {
     "data": {
      "application/vnd.plotly.v1+json": {
       "config": {
        "plotlyServerURL": "https://plot.ly"
       },
       "data": [
        {
         "autocolorscale": true,
         "colorbar": {
          "title": {
           "text": "Profit"
          }
         },
         "locationmode": "country names",
         "locations": [
          "Chad",
          "Russia",
          "Paraguay",
          "Yemen",
          "Senegal",
          "Sweden",
          "Philippines",
          "Eritrea",
          "Djibouti",
          "Singapore",
          "Malaysia",
          "Turkey",
          "Iraq",
          "Germany",
          "Afghanistan",
          "Cambodia",
          "Rwanda",
          "Jordan",
          "Sudan",
          "France",
          "Sri Lanka",
          "Taiwan",
          "Algeria",
          "Togo",
          "Equatorial Guinea",
          "Slovakia",
          "Argentina",
          "Angola",
          "Belgium",
          "Ecuador",
          "Qatar",
          "Lesotho",
          "Albania",
          "Madagascar",
          "Finland",
          "Nicaragua",
          "Ghana",
          "Peru",
          "Benin",
          "Sierra Leone",
          "United States",
          "China",
          "India",
          "Belarus",
          "Somalia",
          "Chile",
          "Tajikistan",
          "Martinique",
          "Croatia",
          "Burundi",
          "Nigeria",
          "Bolivia",
          "Gabon",
          "Italy",
          "Lithuania",
          "Norway",
          "Turkmenistan",
          "Spain",
          "Cuba",
          "Mauritania",
          "Guadeloupe",
          "Denmark",
          "Niger",
          "Central African Republic",
          "Bangladesh",
          "Barbados",
          "Iran",
          "Ireland",
          "Thailand",
          "Swaziland",
          "Democratic Republic of the Congo",
          "Morocco",
          "Panama",
          "Hong Kong",
          "Ukraine",
          "Venezuela",
          "Israel",
          "South Korea",
          "Uruguay",
          "Mexico",
          "Cote d'Ivoire",
          "Georgia",
          "Zimbabwe",
          "Montenegro",
          "Estonia",
          "Indonesia",
          "Guatemala",
          "Mongolia",
          "Republic of the Congo",
          "Azerbaijan",
          "Libya",
          "Armenia",
          "Liberia",
          "Tunisia",
          "Honduras",
          "Syria",
          "Trinidad and Tobago",
          "Saudi Arabia",
          "Uganda",
          "Myanmar (Burma)",
          "Namibia",
          "Switzerland",
          "Zambia",
          "Ethiopia",
          "Jamaica",
          "United Arab Emirates",
          "South Sudan",
          "Guinea",
          "Canada",
          "Uzbekistan",
          "Kyrgyzstan",
          "Macedonia",
          "Czech Republic",
          "Mozambique",
          "Brazil",
          "Kenya",
          "Lebanon",
          "Slovenia",
          "Dominican Republic",
          "Japan",
          "Tanzania",
          "New Zealand",
          "Bosnia and Herzegovina",
          "Haiti",
          "Poland",
          "Portugal",
          "Australia",
          "Cameroon",
          "Papua New Guinea",
          "Guinea-Bissau",
          "Romania",
          "Bulgaria",
          "Austria",
          "Nepal",
          "El Salvador",
          "Egypt",
          "Kazakhstan",
          "South Africa",
          "Bahrain",
          "Colombia",
          "Hungary",
          "Pakistan",
          "United Kingdom",
          "Moldova",
          "Vietnam",
          "Netherlands",
          "Mali"
         ],
         "text": [
          "Chad",
          "Russia",
          "Paraguay",
          "Yemen",
          "Senegal",
          "Sweden",
          "Philippines",
          "Eritrea",
          "Djibouti",
          "Singapore",
          "Malaysia",
          "Turkey",
          "Iraq",
          "Germany",
          "Afghanistan",
          "Cambodia",
          "Rwanda",
          "Jordan",
          "Sudan",
          "France",
          "Sri Lanka",
          "Taiwan",
          "Algeria",
          "Togo",
          "Equatorial Guinea",
          "Slovakia",
          "Argentina",
          "Angola",
          "Belgium",
          "Ecuador",
          "Qatar",
          "Lesotho",
          "Albania",
          "Madagascar",
          "Finland",
          "Nicaragua",
          "Ghana",
          "Peru",
          "Benin",
          "Sierra Leone",
          "United States",
          "China",
          "India",
          "Belarus",
          "Somalia",
          "Chile",
          "Tajikistan",
          "Martinique",
          "Croatia",
          "Burundi",
          "Nigeria",
          "Bolivia",
          "Gabon",
          "Italy",
          "Lithuania",
          "Norway",
          "Turkmenistan",
          "Spain",
          "Cuba",
          "Mauritania",
          "Guadeloupe",
          "Denmark",
          "Niger",
          "Central African Republic",
          "Bangladesh",
          "Barbados",
          "Iran",
          "Ireland",
          "Thailand",
          "Swaziland",
          "Democratic Republic of the Congo",
          "Morocco",
          "Panama",
          "Hong Kong",
          "Ukraine",
          "Venezuela",
          "Israel",
          "South Korea",
          "Uruguay",
          "Mexico",
          "Cote d'Ivoire",
          "Georgia",
          "Zimbabwe",
          "Montenegro",
          "Estonia",
          "Indonesia",
          "Guatemala",
          "Mongolia",
          "Republic of the Congo",
          "Azerbaijan",
          "Libya",
          "Armenia",
          "Liberia",
          "Tunisia",
          "Honduras",
          "Syria",
          "Trinidad and Tobago",
          "Saudi Arabia",
          "Uganda",
          "Myanmar (Burma)",
          "Namibia",
          "Switzerland",
          "Zambia",
          "Ethiopia",
          "Jamaica",
          "United Arab Emirates",
          "South Sudan",
          "Guinea",
          "Canada",
          "Uzbekistan",
          "Kyrgyzstan",
          "Macedonia",
          "Czech Republic",
          "Mozambique",
          "Brazil",
          "Kenya",
          "Lebanon",
          "Slovenia",
          "Dominican Republic",
          "Japan",
          "Tanzania",
          "New Zealand",
          "Bosnia and Herzegovina",
          "Haiti",
          "Poland",
          "Portugal",
          "Australia",
          "Cameroon",
          "Papua New Guinea",
          "Guinea-Bissau",
          "Romania",
          "Bulgaria",
          "Austria",
          "Nepal",
          "El Salvador",
          "Egypt",
          "Kazakhstan",
          "South Africa",
          "Bahrain",
          "Colombia",
          "Hungary",
          "Pakistan",
          "United Kingdom",
          "Moldova",
          "Vietnam",
          "Netherlands",
          "Mali"
         ],
         "type": "choropleth",
         "z": [
          90,
          22536.449999999997,
          415.22752,
          -3706.458,
          7511.160000000001,
          -17519.367,
          -16128.225000000004,
          76.2,
          804.0899999999999,
          8853.06,
          16329.960000000003,
          -98447.23200000002,
          18243.210000000003,
          107322.82049999999,
          5460.299999999999,
          4476.54,
          1336.44,
          1823.6999999999998,
          3619.5,
          109029.00300000003,
          86.37,
          1818.6,
          9106.499999999996,
          816.87,
          44.46000000000001,
          115.25999999999999,
          -18693.796720000002,
          6494.969999999999,
          11572.59,
          2548.10036,
          1502.88,
          1398.21,
          709.32,
          3296.58,
          3905.73,
          33401.44455999999,
          5568.54,
          -5507.8762799999995,
          1349.19,
          471.75,
          285707.60219999973,
          150683.08499999996,
          129071.83500000008,
          4534.26,
          1005.2699999999999,
          7744.330719999998,
          -262.866,
          1114.2110400000001,
          1303.92,
          103.08,
          -80750.71800000001,
          2229.35,
          479.66999999999996,
          19828.757999999994,
          -8966.118000000002,
          5167.7699999999995,
          -3302.709,
          54390.11999999997,
          38889.215480000006,
          1675.95,
          476.2,
          -4282.0470000000005,
          1819.7699999999995,
          468.53999999999996,
          19430.89,
          2199.79392,
          26856.239999999998,
          -7392.381,
          -7308.195,
          86.75999999999999,
          21860.579999999994,
          22761.420000000006,
          -17723.452480000007,
          1558.1100000000001,
          20944.230000000003,
          -11222.710440000003,
          3559.23,
          -12792.830999999998,
          1689.344,
          102818.09752000004,
          6430.62,
          1285.6799999999998,
          -5428.785,
          1286.7600000000002,
          1110.1799999999998,
          15608.677900000012,
          27944.686759999997,
          1506.42,
          280.74,
          1831.05,
          2044.5,
          69.09,
          1044.9,
          602.0999999999999,
          -29482.371400000007,
          693.21,
          2300.4844799999996,
          19339.59000000001,
          -2426.085,
          -2109.2583000000004,
          736.9499999999999,
          7237.469999999999,
          7001.73,
          290.16,
          1392.2258399999998,
          -1036.8600000000001,
          186.36,
          951.2400000000001,
          17817.39,
          1648.1399999999999,
          1735.3199999999997,
          43.379999999999995,
          2093.5499999999997,
          5935.800000000001,
          30090.49896000002,
          3992.0999999999995,
          908.4000000000001,
          590.04,
          -7613.498720000002,
          24328.466999999993,
          5727.969,
          16600.284,
          660.1800000000001,
          -4187.311000000001,
          10983.119999999997,
          -8703.060000000001,
          103907.4330000001,
          5664.75,
          -418.6049999999999,
          411.39,
          7626.270000000001,
          3922.59,
          24341.700000000004,
          877.4399999999999,
          42023.24319999998,
          19702.23,
          -7099.895999999999,
          21936.629999999997,
          12.84,
          18798.049759999998,
          3201.9299999999994,
          -22446.648000000005,
          111900.14999999997,
          1127.22,
          -1870.2306000000003,
          -41070.07500000001,
          2291.55
         ]
        }
       ],
       "layout": {
        "geo": {
         "lakecolor": "rgb(0,0,255)",
         "projection": {
          "type": "natural earth"
         },
         "scope": "world",
         "showlakes": true
        },
        "template": {
         "data": {
          "bar": [
           {
            "error_x": {
             "color": "#2a3f5f"
            },
            "error_y": {
             "color": "#2a3f5f"
            },
            "marker": {
             "line": {
              "color": "#E5ECF6",
              "width": 0.5
             }
            },
            "type": "bar"
           }
          ],
          "barpolar": [
           {
            "marker": {
             "line": {
              "color": "#E5ECF6",
              "width": 0.5
             }
            },
            "type": "barpolar"
           }
          ],
          "carpet": [
           {
            "aaxis": {
             "endlinecolor": "#2a3f5f",
             "gridcolor": "white",
             "linecolor": "white",
             "minorgridcolor": "white",
             "startlinecolor": "#2a3f5f"
            },
            "baxis": {
             "endlinecolor": "#2a3f5f",
             "gridcolor": "white",
             "linecolor": "white",
             "minorgridcolor": "white",
             "startlinecolor": "#2a3f5f"
            },
            "type": "carpet"
           }
          ],
          "choropleth": [
           {
            "colorbar": {
             "outlinewidth": 0,
             "ticks": ""
            },
            "type": "choropleth"
           }
          ],
          "contour": [
           {
            "colorbar": {
             "outlinewidth": 0,
             "ticks": ""
            },
            "colorscale": [
             [
              0,
              "#0d0887"
             ],
             [
              0.1111111111111111,
              "#46039f"
             ],
             [
              0.2222222222222222,
              "#7201a8"
             ],
             [
              0.3333333333333333,
              "#9c179e"
             ],
             [
              0.4444444444444444,
              "#bd3786"
             ],
             [
              0.5555555555555556,
              "#d8576b"
             ],
             [
              0.6666666666666666,
              "#ed7953"
             ],
             [
              0.7777777777777778,
              "#fb9f3a"
             ],
             [
              0.8888888888888888,
              "#fdca26"
             ],
             [
              1,
              "#f0f921"
             ]
            ],
            "type": "contour"
           }
          ],
          "contourcarpet": [
           {
            "colorbar": {
             "outlinewidth": 0,
             "ticks": ""
            },
            "type": "contourcarpet"
           }
          ],
          "heatmap": [
           {
            "colorbar": {
             "outlinewidth": 0,
             "ticks": ""
            },
            "colorscale": [
             [
              0,
              "#0d0887"
             ],
             [
              0.1111111111111111,
              "#46039f"
             ],
             [
              0.2222222222222222,
              "#7201a8"
             ],
             [
              0.3333333333333333,
              "#9c179e"
             ],
             [
              0.4444444444444444,
              "#bd3786"
             ],
             [
              0.5555555555555556,
              "#d8576b"
             ],
             [
              0.6666666666666666,
              "#ed7953"
             ],
             [
              0.7777777777777778,
              "#fb9f3a"
             ],
             [
              0.8888888888888888,
              "#fdca26"
             ],
             [
              1,
              "#f0f921"
             ]
            ],
            "type": "heatmap"
           }
          ],
          "heatmapgl": [
           {
            "colorbar": {
             "outlinewidth": 0,
             "ticks": ""
            },
            "colorscale": [
             [
              0,
              "#0d0887"
             ],
             [
              0.1111111111111111,
              "#46039f"
             ],
             [
              0.2222222222222222,
              "#7201a8"
             ],
             [
              0.3333333333333333,
              "#9c179e"
             ],
             [
              0.4444444444444444,
              "#bd3786"
             ],
             [
              0.5555555555555556,
              "#d8576b"
             ],
             [
              0.6666666666666666,
              "#ed7953"
             ],
             [
              0.7777777777777778,
              "#fb9f3a"
             ],
             [
              0.8888888888888888,
              "#fdca26"
             ],
             [
              1,
              "#f0f921"
             ]
            ],
            "type": "heatmapgl"
           }
          ],
          "histogram": [
           {
            "marker": {
             "colorbar": {
              "outlinewidth": 0,
              "ticks": ""
             }
            },
            "type": "histogram"
           }
          ],
          "histogram2d": [
           {
            "colorbar": {
             "outlinewidth": 0,
             "ticks": ""
            },
            "colorscale": [
             [
              0,
              "#0d0887"
             ],
             [
              0.1111111111111111,
              "#46039f"
             ],
             [
              0.2222222222222222,
              "#7201a8"
             ],
             [
              0.3333333333333333,
              "#9c179e"
             ],
             [
              0.4444444444444444,
              "#bd3786"
             ],
             [
              0.5555555555555556,
              "#d8576b"
             ],
             [
              0.6666666666666666,
              "#ed7953"
             ],
             [
              0.7777777777777778,
              "#fb9f3a"
             ],
             [
              0.8888888888888888,
              "#fdca26"
             ],
             [
              1,
              "#f0f921"
             ]
            ],
            "type": "histogram2d"
           }
          ],
          "histogram2dcontour": [
           {
            "colorbar": {
             "outlinewidth": 0,
             "ticks": ""
            },
            "colorscale": [
             [
              0,
              "#0d0887"
             ],
             [
              0.1111111111111111,
              "#46039f"
             ],
             [
              0.2222222222222222,
              "#7201a8"
             ],
             [
              0.3333333333333333,
              "#9c179e"
             ],
             [
              0.4444444444444444,
              "#bd3786"
             ],
             [
              0.5555555555555556,
              "#d8576b"
             ],
             [
              0.6666666666666666,
              "#ed7953"
             ],
             [
              0.7777777777777778,
              "#fb9f3a"
             ],
             [
              0.8888888888888888,
              "#fdca26"
             ],
             [
              1,
              "#f0f921"
             ]
            ],
            "type": "histogram2dcontour"
           }
          ],
          "mesh3d": [
           {
            "colorbar": {
             "outlinewidth": 0,
             "ticks": ""
            },
            "type": "mesh3d"
           }
          ],
          "parcoords": [
           {
            "line": {
             "colorbar": {
              "outlinewidth": 0,
              "ticks": ""
             }
            },
            "type": "parcoords"
           }
          ],
          "pie": [
           {
            "automargin": true,
            "type": "pie"
           }
          ],
          "scatter": [
           {
            "marker": {
             "colorbar": {
              "outlinewidth": 0,
              "ticks": ""
             }
            },
            "type": "scatter"
           }
          ],
          "scatter3d": [
           {
            "line": {
             "colorbar": {
              "outlinewidth": 0,
              "ticks": ""
             }
            },
            "marker": {
             "colorbar": {
              "outlinewidth": 0,
              "ticks": ""
             }
            },
            "type": "scatter3d"
           }
          ],
          "scattercarpet": [
           {
            "marker": {
             "colorbar": {
              "outlinewidth": 0,
              "ticks": ""
             }
            },
            "type": "scattercarpet"
           }
          ],
          "scattergeo": [
           {
            "marker": {
             "colorbar": {
              "outlinewidth": 0,
              "ticks": ""
             }
            },
            "type": "scattergeo"
           }
          ],
          "scattergl": [
           {
            "marker": {
             "colorbar": {
              "outlinewidth": 0,
              "ticks": ""
             }
            },
            "type": "scattergl"
           }
          ],
          "scattermapbox": [
           {
            "marker": {
             "colorbar": {
              "outlinewidth": 0,
              "ticks": ""
             }
            },
            "type": "scattermapbox"
           }
          ],
          "scatterpolar": [
           {
            "marker": {
             "colorbar": {
              "outlinewidth": 0,
              "ticks": ""
             }
            },
            "type": "scatterpolar"
           }
          ],
          "scatterpolargl": [
           {
            "marker": {
             "colorbar": {
              "outlinewidth": 0,
              "ticks": ""
             }
            },
            "type": "scatterpolargl"
           }
          ],
          "scatterternary": [
           {
            "marker": {
             "colorbar": {
              "outlinewidth": 0,
              "ticks": ""
             }
            },
            "type": "scatterternary"
           }
          ],
          "surface": [
           {
            "colorbar": {
             "outlinewidth": 0,
             "ticks": ""
            },
            "colorscale": [
             [
              0,
              "#0d0887"
             ],
             [
              0.1111111111111111,
              "#46039f"
             ],
             [
              0.2222222222222222,
              "#7201a8"
             ],
             [
              0.3333333333333333,
              "#9c179e"
             ],
             [
              0.4444444444444444,
              "#bd3786"
             ],
             [
              0.5555555555555556,
              "#d8576b"
             ],
             [
              0.6666666666666666,
              "#ed7953"
             ],
             [
              0.7777777777777778,
              "#fb9f3a"
             ],
             [
              0.8888888888888888,
              "#fdca26"
             ],
             [
              1,
              "#f0f921"
             ]
            ],
            "type": "surface"
           }
          ],
          "table": [
           {
            "cells": {
             "fill": {
              "color": "#EBF0F8"
             },
             "line": {
              "color": "white"
             }
            },
            "header": {
             "fill": {
              "color": "#C8D4E3"
             },
             "line": {
              "color": "white"
             }
            },
            "type": "table"
           }
          ]
         },
         "layout": {
          "annotationdefaults": {
           "arrowcolor": "#2a3f5f",
           "arrowhead": 0,
           "arrowwidth": 1
          },
          "coloraxis": {
           "colorbar": {
            "outlinewidth": 0,
            "ticks": ""
           }
          },
          "colorscale": {
           "diverging": [
            [
             0,
             "#8e0152"
            ],
            [
             0.1,
             "#c51b7d"
            ],
            [
             0.2,
             "#de77ae"
            ],
            [
             0.3,
             "#f1b6da"
            ],
            [
             0.4,
             "#fde0ef"
            ],
            [
             0.5,
             "#f7f7f7"
            ],
            [
             0.6,
             "#e6f5d0"
            ],
            [
             0.7,
             "#b8e186"
            ],
            [
             0.8,
             "#7fbc41"
            ],
            [
             0.9,
             "#4d9221"
            ],
            [
             1,
             "#276419"
            ]
           ],
           "sequential": [
            [
             0,
             "#0d0887"
            ],
            [
             0.1111111111111111,
             "#46039f"
            ],
            [
             0.2222222222222222,
             "#7201a8"
            ],
            [
             0.3333333333333333,
             "#9c179e"
            ],
            [
             0.4444444444444444,
             "#bd3786"
            ],
            [
             0.5555555555555556,
             "#d8576b"
            ],
            [
             0.6666666666666666,
             "#ed7953"
            ],
            [
             0.7777777777777778,
             "#fb9f3a"
            ],
            [
             0.8888888888888888,
             "#fdca26"
            ],
            [
             1,
             "#f0f921"
            ]
           ],
           "sequentialminus": [
            [
             0,
             "#0d0887"
            ],
            [
             0.1111111111111111,
             "#46039f"
            ],
            [
             0.2222222222222222,
             "#7201a8"
            ],
            [
             0.3333333333333333,
             "#9c179e"
            ],
            [
             0.4444444444444444,
             "#bd3786"
            ],
            [
             0.5555555555555556,
             "#d8576b"
            ],
            [
             0.6666666666666666,
             "#ed7953"
            ],
            [
             0.7777777777777778,
             "#fb9f3a"
            ],
            [
             0.8888888888888888,
             "#fdca26"
            ],
            [
             1,
             "#f0f921"
            ]
           ]
          },
          "colorway": [
           "#636efa",
           "#EF553B",
           "#00cc96",
           "#ab63fa",
           "#FFA15A",
           "#19d3f3",
           "#FF6692",
           "#B6E880",
           "#FF97FF",
           "#FECB52"
          ],
          "font": {
           "color": "#2a3f5f"
          },
          "geo": {
           "bgcolor": "white",
           "lakecolor": "white",
           "landcolor": "#E5ECF6",
           "showlakes": true,
           "showland": true,
           "subunitcolor": "white"
          },
          "hoverlabel": {
           "align": "left"
          },
          "hovermode": "closest",
          "mapbox": {
           "style": "light"
          },
          "paper_bgcolor": "white",
          "plot_bgcolor": "#E5ECF6",
          "polar": {
           "angularaxis": {
            "gridcolor": "white",
            "linecolor": "white",
            "ticks": ""
           },
           "bgcolor": "#E5ECF6",
           "radialaxis": {
            "gridcolor": "white",
            "linecolor": "white",
            "ticks": ""
           }
          },
          "scene": {
           "xaxis": {
            "backgroundcolor": "#E5ECF6",
            "gridcolor": "white",
            "gridwidth": 2,
            "linecolor": "white",
            "showbackground": true,
            "ticks": "",
            "zerolinecolor": "white"
           },
           "yaxis": {
            "backgroundcolor": "#E5ECF6",
            "gridcolor": "white",
            "gridwidth": 2,
            "linecolor": "white",
            "showbackground": true,
            "ticks": "",
            "zerolinecolor": "white"
           },
           "zaxis": {
            "backgroundcolor": "#E5ECF6",
            "gridcolor": "white",
            "gridwidth": 2,
            "linecolor": "white",
            "showbackground": true,
            "ticks": "",
            "zerolinecolor": "white"
           }
          },
          "shapedefaults": {
           "line": {
            "color": "#2a3f5f"
           }
          },
          "ternary": {
           "aaxis": {
            "gridcolor": "white",
            "linecolor": "white",
            "ticks": ""
           },
           "baxis": {
            "gridcolor": "white",
            "linecolor": "white",
            "ticks": ""
           },
           "bgcolor": "#E5ECF6",
           "caxis": {
            "gridcolor": "white",
            "linecolor": "white",
            "ticks": ""
           }
          },
          "title": {
           "x": 0.05
          },
          "xaxis": {
           "automargin": true,
           "gridcolor": "white",
           "linecolor": "white",
           "ticks": "",
           "title": {
            "standoff": 15
           },
           "zerolinecolor": "white",
           "zerolinewidth": 2
          },
          "yaxis": {
           "automargin": true,
           "gridcolor": "white",
           "linecolor": "white",
           "ticks": "",
           "title": {
            "standoff": 15
           },
           "zerolinecolor": "white",
           "zerolinewidth": 2
          }
         }
        }
       }
      },
      "text/html": [
       "<div>\n",
       "        \n",
       "        \n",
       "            <div id=\"08a9bcd4-a623-4e5d-b349-26bf9cb54907\" class=\"plotly-graph-div\" style=\"height:525px; width:100%;\"></div>\n",
       "            <script type=\"text/javascript\">\n",
       "                require([\"plotly\"], function(Plotly) {\n",
       "                    window.PLOTLYENV=window.PLOTLYENV || {};\n",
       "                    \n",
       "                if (document.getElementById(\"08a9bcd4-a623-4e5d-b349-26bf9cb54907\")) {\n",
       "                    Plotly.newPlot(\n",
       "                        '08a9bcd4-a623-4e5d-b349-26bf9cb54907',\n",
       "                        [{\"autocolorscale\": true, \"colorbar\": {\"title\": {\"text\": \"Profit\"}}, \"locationmode\": \"country names\", \"locations\": [\"Chad\", \"Russia\", \"Paraguay\", \"Yemen\", \"Senegal\", \"Sweden\", \"Philippines\", \"Eritrea\", \"Djibouti\", \"Singapore\", \"Malaysia\", \"Turkey\", \"Iraq\", \"Germany\", \"Afghanistan\", \"Cambodia\", \"Rwanda\", \"Jordan\", \"Sudan\", \"France\", \"Sri Lanka\", \"Taiwan\", \"Algeria\", \"Togo\", \"Equatorial Guinea\", \"Slovakia\", \"Argentina\", \"Angola\", \"Belgium\", \"Ecuador\", \"Qatar\", \"Lesotho\", \"Albania\", \"Madagascar\", \"Finland\", \"Nicaragua\", \"Ghana\", \"Peru\", \"Benin\", \"Sierra Leone\", \"United States\", \"China\", \"India\", \"Belarus\", \"Somalia\", \"Chile\", \"Tajikistan\", \"Martinique\", \"Croatia\", \"Burundi\", \"Nigeria\", \"Bolivia\", \"Gabon\", \"Italy\", \"Lithuania\", \"Norway\", \"Turkmenistan\", \"Spain\", \"Cuba\", \"Mauritania\", \"Guadeloupe\", \"Denmark\", \"Niger\", \"Central African Republic\", \"Bangladesh\", \"Barbados\", \"Iran\", \"Ireland\", \"Thailand\", \"Swaziland\", \"Democratic Republic of the Congo\", \"Morocco\", \"Panama\", \"Hong Kong\", \"Ukraine\", \"Venezuela\", \"Israel\", \"South Korea\", \"Uruguay\", \"Mexico\", \"Cote d'Ivoire\", \"Georgia\", \"Zimbabwe\", \"Montenegro\", \"Estonia\", \"Indonesia\", \"Guatemala\", \"Mongolia\", \"Republic of the Congo\", \"Azerbaijan\", \"Libya\", \"Armenia\", \"Liberia\", \"Tunisia\", \"Honduras\", \"Syria\", \"Trinidad and Tobago\", \"Saudi Arabia\", \"Uganda\", \"Myanmar (Burma)\", \"Namibia\", \"Switzerland\", \"Zambia\", \"Ethiopia\", \"Jamaica\", \"United Arab Emirates\", \"South Sudan\", \"Guinea\", \"Canada\", \"Uzbekistan\", \"Kyrgyzstan\", \"Macedonia\", \"Czech Republic\", \"Mozambique\", \"Brazil\", \"Kenya\", \"Lebanon\", \"Slovenia\", \"Dominican Republic\", \"Japan\", \"Tanzania\", \"New Zealand\", \"Bosnia and Herzegovina\", \"Haiti\", \"Poland\", \"Portugal\", \"Australia\", \"Cameroon\", \"Papua New Guinea\", \"Guinea-Bissau\", \"Romania\", \"Bulgaria\", \"Austria\", \"Nepal\", \"El Salvador\", \"Egypt\", \"Kazakhstan\", \"South Africa\", \"Bahrain\", \"Colombia\", \"Hungary\", \"Pakistan\", \"United Kingdom\", \"Moldova\", \"Vietnam\", \"Netherlands\", \"Mali\"], \"text\": [\"Chad\", \"Russia\", \"Paraguay\", \"Yemen\", \"Senegal\", \"Sweden\", \"Philippines\", \"Eritrea\", \"Djibouti\", \"Singapore\", \"Malaysia\", \"Turkey\", \"Iraq\", \"Germany\", \"Afghanistan\", \"Cambodia\", \"Rwanda\", \"Jordan\", \"Sudan\", \"France\", \"Sri Lanka\", \"Taiwan\", \"Algeria\", \"Togo\", \"Equatorial Guinea\", \"Slovakia\", \"Argentina\", \"Angola\", \"Belgium\", \"Ecuador\", \"Qatar\", \"Lesotho\", \"Albania\", \"Madagascar\", \"Finland\", \"Nicaragua\", \"Ghana\", \"Peru\", \"Benin\", \"Sierra Leone\", \"United States\", \"China\", \"India\", \"Belarus\", \"Somalia\", \"Chile\", \"Tajikistan\", \"Martinique\", \"Croatia\", \"Burundi\", \"Nigeria\", \"Bolivia\", \"Gabon\", \"Italy\", \"Lithuania\", \"Norway\", \"Turkmenistan\", \"Spain\", \"Cuba\", \"Mauritania\", \"Guadeloupe\", \"Denmark\", \"Niger\", \"Central African Republic\", \"Bangladesh\", \"Barbados\", \"Iran\", \"Ireland\", \"Thailand\", \"Swaziland\", \"Democratic Republic of the Congo\", \"Morocco\", \"Panama\", \"Hong Kong\", \"Ukraine\", \"Venezuela\", \"Israel\", \"South Korea\", \"Uruguay\", \"Mexico\", \"Cote d'Ivoire\", \"Georgia\", \"Zimbabwe\", \"Montenegro\", \"Estonia\", \"Indonesia\", \"Guatemala\", \"Mongolia\", \"Republic of the Congo\", \"Azerbaijan\", \"Libya\", \"Armenia\", \"Liberia\", \"Tunisia\", \"Honduras\", \"Syria\", \"Trinidad and Tobago\", \"Saudi Arabia\", \"Uganda\", \"Myanmar (Burma)\", \"Namibia\", \"Switzerland\", \"Zambia\", \"Ethiopia\", \"Jamaica\", \"United Arab Emirates\", \"South Sudan\", \"Guinea\", \"Canada\", \"Uzbekistan\", \"Kyrgyzstan\", \"Macedonia\", \"Czech Republic\", \"Mozambique\", \"Brazil\", \"Kenya\", \"Lebanon\", \"Slovenia\", \"Dominican Republic\", \"Japan\", \"Tanzania\", \"New Zealand\", \"Bosnia and Herzegovina\", \"Haiti\", \"Poland\", \"Portugal\", \"Australia\", \"Cameroon\", \"Papua New Guinea\", \"Guinea-Bissau\", \"Romania\", \"Bulgaria\", \"Austria\", \"Nepal\", \"El Salvador\", \"Egypt\", \"Kazakhstan\", \"South Africa\", \"Bahrain\", \"Colombia\", \"Hungary\", \"Pakistan\", \"United Kingdom\", \"Moldova\", \"Vietnam\", \"Netherlands\", \"Mali\"], \"type\": \"choropleth\", \"z\": [90.0, 22536.449999999997, 415.22752, -3706.458, 7511.160000000001, -17519.367, -16128.225000000004, 76.2, 804.0899999999999, 8853.06, 16329.960000000003, -98447.23200000002, 18243.210000000003, 107322.82049999999, 5460.299999999999, 4476.54, 1336.44, 1823.6999999999998, 3619.5, 109029.00300000003, 86.37, 1818.6, 9106.499999999996, 816.87, 44.46000000000001, 115.25999999999999, -18693.796720000002, 6494.969999999999, 11572.59, 2548.10036, 1502.88, 1398.21, 709.32, 3296.58, 3905.73, 33401.44455999999, 5568.54, -5507.8762799999995, 1349.19, 471.75, 285707.60219999973, 150683.08499999996, 129071.83500000008, 4534.26, 1005.2699999999999, 7744.330719999998, -262.866, 1114.2110400000001, 1303.92, 103.08, -80750.71800000001, 2229.35, 479.66999999999996, 19828.757999999994, -8966.118000000002, 5167.7699999999995, -3302.709, 54390.11999999997, 38889.215480000006, 1675.95, 476.2, -4282.0470000000005, 1819.7699999999995, 468.53999999999996, 19430.89, 2199.79392, 26856.239999999998, -7392.381, -7308.195, 86.75999999999999, 21860.579999999994, 22761.420000000006, -17723.452480000007, 1558.1100000000001, 20944.230000000003, -11222.710440000003, 3559.23, -12792.830999999998, 1689.344, 102818.09752000004, 6430.62, 1285.6799999999998, -5428.785, 1286.7600000000002, 1110.1799999999998, 15608.677900000012, 27944.686759999997, 1506.42, 280.74, 1831.05, 2044.5, 69.09, 1044.9, 602.0999999999999, -29482.371400000007, 693.21, 2300.4844799999996, 19339.59000000001, -2426.085, -2109.2583000000004, 736.9499999999999, 7237.469999999999, 7001.73, 290.16, 1392.2258399999998, -1036.8600000000001, 186.36, 951.2400000000001, 17817.39, 1648.1399999999999, 1735.3199999999997, 43.379999999999995, 2093.5499999999997, 5935.800000000001, 30090.49896000002, 3992.0999999999995, 908.4000000000001, 590.04, -7613.498720000002, 24328.466999999993, 5727.969, 16600.284, 660.1800000000001, -4187.311000000001, 10983.119999999997, -8703.060000000001, 103907.4330000001, 5664.75, -418.6049999999999, 411.39, 7626.270000000001, 3922.59, 24341.700000000004, 877.4399999999999, 42023.24319999998, 19702.23, -7099.895999999999, 21936.629999999997, 12.84, 18798.049759999998, 3201.9299999999994, -22446.648000000005, 111900.14999999997, 1127.22, -1870.2306000000003, -41070.07500000001, 2291.55]}],\n",
       "                        {\"geo\": {\"lakecolor\": \"rgb(0,0,255)\", \"projection\": {\"type\": \"natural earth\"}, \"scope\": \"world\", \"showlakes\": true}, \"template\": {\"data\": {\"bar\": [{\"error_x\": {\"color\": \"#2a3f5f\"}, \"error_y\": {\"color\": \"#2a3f5f\"}, \"marker\": {\"line\": {\"color\": \"#E5ECF6\", \"width\": 0.5}}, \"type\": \"bar\"}], \"barpolar\": [{\"marker\": {\"line\": {\"color\": \"#E5ECF6\", \"width\": 0.5}}, \"type\": \"barpolar\"}], \"carpet\": [{\"aaxis\": {\"endlinecolor\": \"#2a3f5f\", \"gridcolor\": \"white\", \"linecolor\": \"white\", \"minorgridcolor\": \"white\", \"startlinecolor\": \"#2a3f5f\"}, \"baxis\": {\"endlinecolor\": \"#2a3f5f\", \"gridcolor\": \"white\", \"linecolor\": \"white\", \"minorgridcolor\": \"white\", \"startlinecolor\": \"#2a3f5f\"}, \"type\": \"carpet\"}], \"choropleth\": [{\"colorbar\": {\"outlinewidth\": 0, \"ticks\": \"\"}, \"type\": \"choropleth\"}], \"contour\": [{\"colorbar\": {\"outlinewidth\": 0, \"ticks\": \"\"}, \"colorscale\": [[0.0, \"#0d0887\"], [0.1111111111111111, \"#46039f\"], [0.2222222222222222, \"#7201a8\"], [0.3333333333333333, \"#9c179e\"], [0.4444444444444444, \"#bd3786\"], [0.5555555555555556, \"#d8576b\"], [0.6666666666666666, \"#ed7953\"], [0.7777777777777778, \"#fb9f3a\"], [0.8888888888888888, \"#fdca26\"], [1.0, \"#f0f921\"]], \"type\": \"contour\"}], \"contourcarpet\": [{\"colorbar\": {\"outlinewidth\": 0, \"ticks\": \"\"}, \"type\": \"contourcarpet\"}], \"heatmap\": [{\"colorbar\": {\"outlinewidth\": 0, \"ticks\": \"\"}, \"colorscale\": [[0.0, \"#0d0887\"], [0.1111111111111111, \"#46039f\"], [0.2222222222222222, \"#7201a8\"], [0.3333333333333333, \"#9c179e\"], [0.4444444444444444, \"#bd3786\"], [0.5555555555555556, \"#d8576b\"], [0.6666666666666666, \"#ed7953\"], [0.7777777777777778, \"#fb9f3a\"], [0.8888888888888888, \"#fdca26\"], [1.0, \"#f0f921\"]], \"type\": \"heatmap\"}], \"heatmapgl\": [{\"colorbar\": {\"outlinewidth\": 0, \"ticks\": \"\"}, \"colorscale\": [[0.0, \"#0d0887\"], [0.1111111111111111, \"#46039f\"], [0.2222222222222222, \"#7201a8\"], [0.3333333333333333, \"#9c179e\"], [0.4444444444444444, \"#bd3786\"], [0.5555555555555556, \"#d8576b\"], [0.6666666666666666, \"#ed7953\"], [0.7777777777777778, \"#fb9f3a\"], [0.8888888888888888, \"#fdca26\"], [1.0, \"#f0f921\"]], \"type\": \"heatmapgl\"}], \"histogram\": [{\"marker\": {\"colorbar\": {\"outlinewidth\": 0, \"ticks\": \"\"}}, \"type\": \"histogram\"}], \"histogram2d\": [{\"colorbar\": {\"outlinewidth\": 0, \"ticks\": \"\"}, \"colorscale\": [[0.0, \"#0d0887\"], [0.1111111111111111, \"#46039f\"], [0.2222222222222222, \"#7201a8\"], [0.3333333333333333, \"#9c179e\"], [0.4444444444444444, \"#bd3786\"], [0.5555555555555556, \"#d8576b\"], [0.6666666666666666, \"#ed7953\"], [0.7777777777777778, \"#fb9f3a\"], [0.8888888888888888, \"#fdca26\"], [1.0, \"#f0f921\"]], \"type\": \"histogram2d\"}], \"histogram2dcontour\": [{\"colorbar\": {\"outlinewidth\": 0, \"ticks\": \"\"}, \"colorscale\": [[0.0, \"#0d0887\"], [0.1111111111111111, \"#46039f\"], [0.2222222222222222, \"#7201a8\"], [0.3333333333333333, \"#9c179e\"], [0.4444444444444444, \"#bd3786\"], [0.5555555555555556, \"#d8576b\"], [0.6666666666666666, \"#ed7953\"], [0.7777777777777778, \"#fb9f3a\"], [0.8888888888888888, \"#fdca26\"], [1.0, \"#f0f921\"]], \"type\": \"histogram2dcontour\"}], \"mesh3d\": [{\"colorbar\": {\"outlinewidth\": 0, \"ticks\": \"\"}, \"type\": \"mesh3d\"}], \"parcoords\": [{\"line\": {\"colorbar\": {\"outlinewidth\": 0, \"ticks\": \"\"}}, \"type\": \"parcoords\"}], \"pie\": [{\"automargin\": true, \"type\": \"pie\"}], \"scatter\": [{\"marker\": {\"colorbar\": {\"outlinewidth\": 0, \"ticks\": \"\"}}, \"type\": \"scatter\"}], \"scatter3d\": [{\"line\": {\"colorbar\": {\"outlinewidth\": 0, \"ticks\": \"\"}}, \"marker\": {\"colorbar\": {\"outlinewidth\": 0, \"ticks\": \"\"}}, \"type\": \"scatter3d\"}], \"scattercarpet\": [{\"marker\": {\"colorbar\": {\"outlinewidth\": 0, \"ticks\": \"\"}}, \"type\": \"scattercarpet\"}], \"scattergeo\": [{\"marker\": {\"colorbar\": {\"outlinewidth\": 0, \"ticks\": \"\"}}, \"type\": \"scattergeo\"}], \"scattergl\": [{\"marker\": {\"colorbar\": {\"outlinewidth\": 0, \"ticks\": \"\"}}, \"type\": \"scattergl\"}], \"scattermapbox\": [{\"marker\": {\"colorbar\": {\"outlinewidth\": 0, \"ticks\": \"\"}}, \"type\": \"scattermapbox\"}], \"scatterpolar\": [{\"marker\": {\"colorbar\": {\"outlinewidth\": 0, \"ticks\": \"\"}}, \"type\": \"scatterpolar\"}], \"scatterpolargl\": [{\"marker\": {\"colorbar\": {\"outlinewidth\": 0, \"ticks\": \"\"}}, \"type\": \"scatterpolargl\"}], \"scatterternary\": [{\"marker\": {\"colorbar\": {\"outlinewidth\": 0, \"ticks\": \"\"}}, \"type\": \"scatterternary\"}], \"surface\": [{\"colorbar\": {\"outlinewidth\": 0, \"ticks\": \"\"}, \"colorscale\": [[0.0, \"#0d0887\"], [0.1111111111111111, \"#46039f\"], [0.2222222222222222, \"#7201a8\"], [0.3333333333333333, \"#9c179e\"], [0.4444444444444444, \"#bd3786\"], [0.5555555555555556, \"#d8576b\"], [0.6666666666666666, \"#ed7953\"], [0.7777777777777778, \"#fb9f3a\"], [0.8888888888888888, \"#fdca26\"], [1.0, \"#f0f921\"]], \"type\": \"surface\"}], \"table\": [{\"cells\": {\"fill\": {\"color\": \"#EBF0F8\"}, \"line\": {\"color\": \"white\"}}, \"header\": {\"fill\": {\"color\": \"#C8D4E3\"}, \"line\": {\"color\": \"white\"}}, \"type\": \"table\"}]}, \"layout\": {\"annotationdefaults\": {\"arrowcolor\": \"#2a3f5f\", \"arrowhead\": 0, \"arrowwidth\": 1}, \"coloraxis\": {\"colorbar\": {\"outlinewidth\": 0, \"ticks\": \"\"}}, \"colorscale\": {\"diverging\": [[0, \"#8e0152\"], [0.1, \"#c51b7d\"], [0.2, \"#de77ae\"], [0.3, \"#f1b6da\"], [0.4, \"#fde0ef\"], [0.5, \"#f7f7f7\"], [0.6, \"#e6f5d0\"], [0.7, \"#b8e186\"], [0.8, \"#7fbc41\"], [0.9, \"#4d9221\"], [1, \"#276419\"]], \"sequential\": [[0.0, \"#0d0887\"], [0.1111111111111111, \"#46039f\"], [0.2222222222222222, \"#7201a8\"], [0.3333333333333333, \"#9c179e\"], [0.4444444444444444, \"#bd3786\"], [0.5555555555555556, \"#d8576b\"], [0.6666666666666666, \"#ed7953\"], [0.7777777777777778, \"#fb9f3a\"], [0.8888888888888888, \"#fdca26\"], [1.0, \"#f0f921\"]], \"sequentialminus\": [[0.0, \"#0d0887\"], [0.1111111111111111, \"#46039f\"], [0.2222222222222222, \"#7201a8\"], [0.3333333333333333, \"#9c179e\"], [0.4444444444444444, \"#bd3786\"], [0.5555555555555556, \"#d8576b\"], [0.6666666666666666, \"#ed7953\"], [0.7777777777777778, \"#fb9f3a\"], [0.8888888888888888, \"#fdca26\"], [1.0, \"#f0f921\"]]}, \"colorway\": [\"#636efa\", \"#EF553B\", \"#00cc96\", \"#ab63fa\", \"#FFA15A\", \"#19d3f3\", \"#FF6692\", \"#B6E880\", \"#FF97FF\", \"#FECB52\"], \"font\": {\"color\": \"#2a3f5f\"}, \"geo\": {\"bgcolor\": \"white\", \"lakecolor\": \"white\", \"landcolor\": \"#E5ECF6\", \"showlakes\": true, \"showland\": true, \"subunitcolor\": \"white\"}, \"hoverlabel\": {\"align\": \"left\"}, \"hovermode\": \"closest\", \"mapbox\": {\"style\": \"light\"}, \"paper_bgcolor\": \"white\", \"plot_bgcolor\": \"#E5ECF6\", \"polar\": {\"angularaxis\": {\"gridcolor\": \"white\", \"linecolor\": \"white\", \"ticks\": \"\"}, \"bgcolor\": \"#E5ECF6\", \"radialaxis\": {\"gridcolor\": \"white\", \"linecolor\": \"white\", \"ticks\": \"\"}}, \"scene\": {\"xaxis\": {\"backgroundcolor\": \"#E5ECF6\", \"gridcolor\": \"white\", \"gridwidth\": 2, \"linecolor\": \"white\", \"showbackground\": true, \"ticks\": \"\", \"zerolinecolor\": \"white\"}, \"yaxis\": {\"backgroundcolor\": \"#E5ECF6\", \"gridcolor\": \"white\", \"gridwidth\": 2, \"linecolor\": \"white\", \"showbackground\": true, \"ticks\": \"\", \"zerolinecolor\": \"white\"}, \"zaxis\": {\"backgroundcolor\": \"#E5ECF6\", \"gridcolor\": \"white\", \"gridwidth\": 2, \"linecolor\": \"white\", \"showbackground\": true, \"ticks\": \"\", \"zerolinecolor\": \"white\"}}, \"shapedefaults\": {\"line\": {\"color\": \"#2a3f5f\"}}, \"ternary\": {\"aaxis\": {\"gridcolor\": \"white\", \"linecolor\": \"white\", \"ticks\": \"\"}, \"baxis\": {\"gridcolor\": \"white\", \"linecolor\": \"white\", \"ticks\": \"\"}, \"bgcolor\": \"#E5ECF6\", \"caxis\": {\"gridcolor\": \"white\", \"linecolor\": \"white\", \"ticks\": \"\"}}, \"title\": {\"x\": 0.05}, \"xaxis\": {\"automargin\": true, \"gridcolor\": \"white\", \"linecolor\": \"white\", \"ticks\": \"\", \"title\": {\"standoff\": 15}, \"zerolinecolor\": \"white\", \"zerolinewidth\": 2}, \"yaxis\": {\"automargin\": true, \"gridcolor\": \"white\", \"linecolor\": \"white\", \"ticks\": \"\", \"title\": {\"standoff\": 15}, \"zerolinecolor\": \"white\", \"zerolinewidth\": 2}}}},\n",
       "                        {\"responsive\": true}\n",
       "                    ).then(function(){\n",
       "                            \n",
       "var gd = document.getElementById('08a9bcd4-a623-4e5d-b349-26bf9cb54907');\n",
       "var x = new MutationObserver(function (mutations, observer) {{\n",
       "        var display = window.getComputedStyle(gd).display;\n",
       "        if (!display || display === 'none') {{\n",
       "            console.log([gd, 'removed!']);\n",
       "            Plotly.purge(gd);\n",
       "            observer.disconnect();\n",
       "        }}\n",
       "}});\n",
       "\n",
       "// Listen for the removal of the full notebook cells\n",
       "var notebookContainer = gd.closest('#notebook-container');\n",
       "if (notebookContainer) {{\n",
       "    x.observe(notebookContainer, {childList: true});\n",
       "}}\n",
       "\n",
       "// Listen for the clearing of the current output cell\n",
       "var outputEl = gd.closest('.output');\n",
       "if (outputEl) {{\n",
       "    x.observe(outputEl, {childList: true});\n",
       "}}\n",
       "\n",
       "                        })\n",
       "                };\n",
       "                });\n",
       "            </script>\n",
       "        </div>"
      ]
     },
     "metadata": {},
     "output_type": "display_data"
    }
   ],
   "source": [
    "prcountries=most_country_prof.rdd.map(lambda x: x[0]).collect()\n",
    "prvs=most_country_prof.rdd.map(lambda x: x[1]).collect()\n",
    "\n",
    "pdt=[dict(type=\"choropleth\", autocolorscale=True, locations=prcountries, z=prvs, locationmode=\"country names\", text=prcountries, colorbar= dict(title='Profit'))]\n",
    "playout=dict(geo=dict(scope=\"world\", projection=dict(type=\"natural earth\"), showlakes=True, lakecolor='rgb(0,0,255)'))\n",
    "fig=dict(data=pdt, layout=playout)\n",
    "pio.show(fig)"
   ]
  },
  {
   "cell_type": "code",
   "execution_count": null,
   "metadata": {},
   "outputs": [],
   "source": []
  },
  {
   "cell_type": "markdown",
   "metadata": {},
   "source": [
    "# Most profit per market "
   ]
  },
  {
   "cell_type": "code",
   "execution_count": 24,
   "metadata": {},
   "outputs": [
    {
     "name": "stdout",
     "output_type": "stream",
     "text": [
      "+------+------------------+\n",
      "|Market|      Total Profit|\n",
      "+------+------------------+\n",
      "|  APAC| 436000.0490000002|\n",
      "|    EU| 372829.7414999994|\n",
      "|    US|285707.60219999973|\n",
      "| LATAM|221643.48707999976|\n",
      "|Africa| 88871.63100000001|\n",
      "|  EMEA|43897.971000000005|\n",
      "|Canada|          17817.39|\n",
      "+------+------------------+\n",
      "\n"
     ]
    }
   ],
   "source": [
    "mark_prof = data.select(data[\"Market\"], data[\"Profit\"])\n",
    "most_mark_prof = mark_prof.groupBy(mark_prof[\"Market\"]).sum().withColumnRenamed(\"sum(Profit)\", \"Total Profit\")\n",
    "most_mark_prof.orderBy(most_mark_prof[\"Total Profit\"], ascending = False).show()"
   ]
  },
  {
   "cell_type": "code",
   "execution_count": 25,
   "metadata": {
    "scrolled": true
   },
   "outputs": [
    {
     "data": {
      "image/png": "[encoded data removed]",
      "text/plain": [
       "<Figure size 432x288 with 2 Axes>"
      ]
     },
     "metadata": {
      "needs_background": "light"
     },
     "output_type": "display_data"
    }
   ],
   "source": [
    "# p = most_mark_prof.select(most_mark_prof[\"Market\"])\n",
    "# o = most_mark_prof.select(most_mark_prof[\"Total Profit\"])\n",
    "# l1 = [row[\"Market\"] for row in p.collect()]\n",
    "# l2 = [row[\"Total Profit\"] for row in o.collect()]\n",
    "# plt.bar(l1, l2)\n",
    "# plt.xticks(l1,rotation=\"vertical\")\n",
    "# plt.xlabel(\"Market\")\n",
    "# plt.ylabel(\"Total Profit\")\n",
    "# plt.show()\n",
    "\n",
    "p = most_market.select(most_market[\"Market\"])\n",
    "o = most_market.select(most_market[\"Total Ordered\"])\n",
    "l1 = [row[\"Market\"] for row in p.collect()]\n",
    "l2 = [row[\"Total Ordered\"] for row in o.collect()]\n",
    "\n",
    "m = most_mark_prof.select(most_mark_prof[\"Market\"])\n",
    "n = most_mark_prof.select(most_mark_prof[\"Total Profit\"])\n",
    "l3 = [row[\"Market\"] for row in m.collect()]\n",
    "l4 = [row[\"Total Profit\"] for row in n.collect()]\n",
    "\n",
    "fig,ax2=plt.subplots()\n",
    "\n",
    "ax1=ax2.twinx()\n",
    "ax2.bar(l1, l2)\n",
    "ax1.plot(l3, l4, 'r')\n",
    "ax2.set_xlabel(\"Market\")\n",
    "ax2.set_ylabel(\"Number of Orders\")\n",
    "ax1.set_ylabel(\"Total Profit\", color = \"r\")\n",
    "ax2.set_xticklabels(l1,rotation='vertical')\n",
    "plt.savefig('market.png', dpi=300, bbox_inches='tight')\n",
    "plt.show()"
   ]
  },
  {
   "cell_type": "markdown",
   "metadata": {},
   "source": [
    "# Most profit per segment"
   ]
  },
  {
   "cell_type": "code",
   "execution_count": 26,
   "metadata": {},
   "outputs": [
    {
     "name": "stdout",
     "output_type": "stream",
     "text": [
      "+-----------+-----------------+\n",
      "|    Segment|     Total Profit|\n",
      "+-----------+-----------------+\n",
      "|   Consumer|749564.4320600019|\n",
      "|  Corporate|440659.1595600009|\n",
      "|Home Office|276544.2801599999|\n",
      "+-----------+-----------------+\n",
      "\n"
     ]
    }
   ],
   "source": [
    "seg_prof = data.select(data[\"Segment\"], data[\"Profit\"])\n",
    "most_seg_prof = seg_prof.groupBy(seg_prof[\"Segment\"]).sum().withColumnRenamed(\"sum(Profit)\", \"Total Profit\")\n",
    "most_seg_prof.orderBy(most_seg_prof[\"Total Profit\"], ascending = False).show()"
   ]
  },
  {
   "cell_type": "code",
   "execution_count": 27,
   "metadata": {},
   "outputs": [
    {
     "data": {
      "image/png": "[encoded data removed]",
      "text/plain": [
       "<Figure size 432x288 with 1 Axes>"
      ]
     },
     "metadata": {},
     "output_type": "display_data"
    }
   ],
   "source": [
    "p = most_seg_prof.select(most_seg_prof[\"Segment\"])\n",
    "o = most_seg_prof.select(most_seg_prof[\"Total Profit\"])\n",
    "l1 = [row[\"Segment\"] for row in p.collect()]\n",
    "l2 = [row[\"Total Profit\"] for row in o.collect()]\n",
    "\n",
    "sizes=[749564.4320600019, 440659.1595600009, 276544.2801599999]\n",
    "labels= \"Consumer\", \"Corporate\", \"Home Office\"\n",
    "plt.pie(sizes,labels=labels,shadow=True,autopct='%1.1f%%')\n",
    "plt.savefig('segment_profit.png', dpi=300, bbox_inches='tight')\n",
    "plt.show()"
   ]
  },
  {
   "cell_type": "markdown",
   "metadata": {},
   "source": [
    "# Month with most orders"
   ]
  },
  {
   "cell_type": "code",
   "execution_count": 28,
   "metadata": {},
   "outputs": [
    {
     "name": "stdout",
     "output_type": "stream",
     "text": [
      "+-------+---------------+\n",
      "|  Month|       Order ID|\n",
      "+-------+---------------+\n",
      "|2011-01|   AG-2011-2040|\n",
      "|2011-01|  IN-2011-47883|\n",
      "|2011-01|   HU-2011-1220|\n",
      "|2011-01|IT-2011-3647632|\n",
      "|2011-01|  IN-2011-47883|\n",
      "|2011-01|  IN-2011-47883|\n",
      "|2011-02|  IN-2011-30733|\n",
      "|2011-02| CA-2011-115161|\n",
      "|2011-02|   AO-2011-1390|\n",
      "|2011-02|  ID-2011-56493|\n",
      "|2011-02|  IN-2011-36074|\n",
      "|2011-02| US-2011-118892|\n",
      "|2011-02|   IR-2011-6550|\n",
      "|2011-02|ES-2011-5268439|\n",
      "|2011-02|  IN-2011-30733|\n",
      "|2011-02| US-2011-118892|\n",
      "|2011-02|ES-2011-5460465|\n",
      "|2011-02|  IN-2011-30733|\n",
      "|2011-02|  IN-2011-30733|\n",
      "|2011-02|ES-2011-5268439|\n",
      "+-------+---------------+\n",
      "only showing top 20 rows\n",
      "\n"
     ]
    }
   ],
   "source": [
    "date = data.select(data[\"Month\"], data[\"Order ID\"])\n",
    "date.show()\n",
    "# split_date=pyspark.sql.functions.split(df['Date'], '[-/]')"
   ]
  },
  {
   "cell_type": "code",
   "execution_count": 29,
   "metadata": {},
   "outputs": [
    {
     "name": "stdout",
     "output_type": "stream",
     "text": [
      "+-------+-----+\n",
      "|  Month|count|\n",
      "+-------+-----+\n",
      "|2011-01|  433|\n",
      "|2011-02|  378|\n",
      "|2011-03|  539|\n",
      "|2011-04|  564|\n",
      "|2011-05|  566|\n",
      "|2011-06|  917|\n",
      "|2011-07|  495|\n",
      "|2011-08|  878|\n",
      "|2011-09| 1052|\n",
      "|2011-10|  774|\n",
      "|2011-11| 1139|\n",
      "|2011-12| 1263|\n",
      "|2012-01|  539|\n",
      "|2012-02|  429|\n",
      "|2012-03|  662|\n",
      "|2012-04|  657|\n",
      "|2012-05|  840|\n",
      "|2012-06| 1136|\n",
      "|2012-07|  659|\n",
      "|2012-08| 1083|\n",
      "+-------+-----+\n",
      "only showing top 20 rows\n",
      "\n"
     ]
    }
   ],
   "source": [
    "month_order = date.groupBy(date[\"Month\"]).count()\n",
    "month_orders = month_order.orderBy(month_order[\"Month\"], ascending = True)\n",
    "month_orders.show()"
   ]
  },
  {
   "cell_type": "code",
   "execution_count": null,
   "metadata": {},
   "outputs": [],
   "source": []
  },
  {
   "cell_type": "markdown",
   "metadata": {},
   "source": [
    "# Monthly Profit "
   ]
  },
  {
   "cell_type": "code",
   "execution_count": 30,
   "metadata": {},
   "outputs": [
    {
     "name": "stdout",
     "output_type": "stream",
     "text": [
      "+-------+------------------+\n",
      "|  Month|      Total Profit|\n",
      "+-------+------------------+\n",
      "|2011-01| 8288.699359999995|\n",
      "|2011-02|       12341.64138|\n",
      "|2011-03|       15224.26936|\n",
      "|2011-04|12867.049380000002|\n",
      "|2011-05|12177.699700000005|\n",
      "|2011-06| 23496.96201999999|\n",
      "|2011-07| 5501.384319999998|\n",
      "|2011-08|       23749.56112|\n",
      "|2011-09|35664.568739999995|\n",
      "|2011-10|25969.080240000003|\n",
      "|2011-11| 32599.23331999999|\n",
      "|2011-12| 40577.51480000001|\n",
      "|2012-01|10391.829640000004|\n",
      "|2012-02|       14993.96008|\n",
      "|2012-03| 17944.88155999999|\n",
      "|2012-04|17674.858319999996|\n",
      "|2012-05|29762.244140000006|\n",
      "|2012-06|       34446.48642|\n",
      "|2012-07|15485.839119999995|\n",
      "|2012-08| 43523.92177999999|\n",
      "+-------+------------------+\n",
      "only showing top 20 rows\n",
      "\n"
     ]
    }
   ],
   "source": [
    "month_profit = data.select(data[\"Month\"], data[\"Profit\"])\n",
    "most_month_profit = month_profit.groupBy(month_profit[\"Month\"]).sum().withColumnRenamed(\"sum(Profit)\", \"Total Profit\")\n",
    "most_month_profits = most_month_profit.orderBy(most_month_profit[\"Month\"])\n",
    "most_month_profits.show()"
   ]
  },
  {
   "cell_type": "code",
   "execution_count": 31,
   "metadata": {},
   "outputs": [
    {
     "data": {
      "image/png": "[encoded data removed]",
      "text/plain": [
       "<Figure size 1116x540 with 2 Axes>"
      ]
     },
     "metadata": {
      "needs_background": "light"
     },
     "output_type": "display_data"
    }
   ],
   "source": [
    "p = month_orders.select(month_orders[\"Month\"])\n",
    "o = month_orders.select(month_orders[\"count\"])\n",
    "l1 = [row[\"Month\"] for row in p.collect()]\n",
    "l2 = [row[\"count\"] for row in o.collect()]\n",
    "\n",
    "m = most_month_profits.select(most_month_profits[\"Month\"])\n",
    "n = most_month_profits.select(most_month_profits[\"Total Profit\"])\n",
    "l3 = [row[\"Month\"] for row in m.collect()]\n",
    "l4 = [row[\"Total Profit\"] for row in n.collect()]\n",
    "\n",
    "fig,ax2=plt.subplots()\n",
    "\n",
    "ax1=ax2.twinx()\n",
    "ax2.bar(l1, l2)\n",
    "ax1.plot(l3, l4, 'r')\n",
    "ax2.set_xlabel(\"Month\")\n",
    "ax2.set_ylabel(\"Number of Orders\")\n",
    "ax1.set_ylabel(\"Total Profit\", color = \"r\")\n",
    "ax2.set_xticklabels(l1,rotation='vertical')\n",
    "fig.set_size_inches(15.5,7.5)\n",
    "plt.savefig('month.png', dpi=300, bbox_inches='tight')\n",
    "plt.show()"
   ]
  },
  {
   "cell_type": "code",
   "execution_count": null,
   "metadata": {},
   "outputs": [],
   "source": []
  },
  {
   "cell_type": "markdown",
   "metadata": {},
   "source": [
    "# Customer Orders"
   ]
  },
  {
   "cell_type": "code",
   "execution_count": 32,
   "metadata": {},
   "outputs": [
    {
     "name": "stdout",
     "output_type": "stream",
     "text": [
      "+-----------+-----+\n",
      "|Customer ID|count|\n",
      "+-----------+-----+\n",
      "|   PO-18850|   41|\n",
      "|   MP-17965|   39|\n",
      "|   KH-16690|   39|\n",
      "|   CK-12205|   38|\n",
      "|   JH-15985|   38|\n",
      "|   WB-21850|   38|\n",
      "|   AR-10825|   38|\n",
      "|   DW-13585|   37|\n",
      "|   EM-13960|   37|\n",
      "|   SC-20380|   37|\n",
      "|   TP-21130|   37|\n",
      "|   NS-18640|   37|\n",
      "|   SZ-20035|   37|\n",
      "|   FO-14305|   37|\n",
      "|   BE-11335|   37|\n",
      "|   ZC-21910|   37|\n",
      "|   JG-15805|   37|\n",
      "|   HM-14860|   37|\n",
      "|   RB-19465|   36|\n",
      "|   GH-14410|   36|\n",
      "+-----------+-----+\n",
      "\n"
     ]
    }
   ],
   "source": [
    "cust_order = data.select(data[\"Order ID\"], data[\"Customer ID\"])\n",
    "most_cust_order = cust_order.distinct()\n",
    "most_cust_order = most_cust_order.groupBy(most_cust_order[\"Customer ID\"]).count()\n",
    "top_cust = most_cust_order.orderBy(most_cust_order[\"count\"], ascending = False).limit(20)\n",
    "top_cust.show()"
   ]
  },
  {
   "cell_type": "code",
   "execution_count": 33,
   "metadata": {},
   "outputs": [
    {
     "data": {
      "image/png": "[encoded data removed]",
      "text/plain": [
       "<Figure size 432x288 with 1 Axes>"
      ]
     },
     "metadata": {
      "needs_background": "light"
     },
     "output_type": "display_data"
    }
   ],
   "source": [
    "q = top_cust.select(top_cust[\"Customer ID\"])\n",
    "t = top_cust.select(top_cust[\"count\"])\n",
    "l5 = [row[\"Customer ID\"] for row in q.collect()]\n",
    "l6 = [row[\"count\"] for row in t.collect()]\n",
    "\n",
    "plt.bar(l5, l6)\n",
    "plt.xticks(l5,rotation=\"vertical\")\n",
    "plt.xlabel(\"Customer ID\")\n",
    "plt.ylabel(\"Total Orders\")\n",
    "plt.savefig('customers.png', dpi=300, bbox_inches='tight')\n",
    "plt.show()"
   ]
  },
  {
   "cell_type": "code",
   "execution_count": null,
   "metadata": {},
   "outputs": [],
   "source": []
  },
  {
   "cell_type": "markdown",
   "metadata": {},
   "source": [
    "# Days with most orders"
   ]
  },
  {
   "cell_type": "code",
   "execution_count": 34,
   "metadata": {},
   "outputs": [
    {
     "data": {
      "text/plain": [
       "[(('Monday', 0), 9177),\n",
       " (('Tuesday', 1), 9307),\n",
       " (('Wednesday', 2), 9017),\n",
       " (('Thursday', 3), 8871),\n",
       " (('Friday', 4), 9348),\n",
       " (('Saturday', 5), 4580),\n",
       " (('Sunday', 6), 990)]"
      ]
     },
     "execution_count": 34,
     "metadata": {},
     "output_type": "execute_result"
    }
   ],
   "source": [
    "dwmo=data.rdd.map(lambda x: (((datetime(int(x[1][:4]),int(x[1][5:7]),int(x[1][8:10])).strftime(\"%A\")),datetime(int(x[1][:4]),int(x[1][5:7]),int(x[1][8:10])).weekday()),1)).\\\n",
    "reduceByKey(lambda x,y:x+y).sortBy(lambda x: x[0][1])\n",
    "dwmo.collect()"
   ]
  },
  {
   "cell_type": "code",
   "execution_count": 35,
   "metadata": {},
   "outputs": [
    {
     "data": {
      "image/png": "[encoded data removed]",
      "text/plain": [
       "<Figure size 432x288 with 1 Axes>"
      ]
     },
     "metadata": {
      "needs_background": "light"
     },
     "output_type": "display_data"
    }
   ],
   "source": [
    "days=dwmo.map(lambda x: x[0][0]).collect()\n",
    "dvls=dwmo.map(lambda x:x[1]).collect()\n",
    "\n",
    "plt.bar(days, dvls)\n",
    "plt.xticks(days, rotation=70,size=10)\n",
    "plt.title(\"Number Of Orders By Day\",size=18)\n",
    "plt.show()"
   ]
  },
  {
   "cell_type": "code",
   "execution_count": null,
   "metadata": {},
   "outputs": [],
   "source": []
  },
  {
   "cell_type": "markdown",
   "metadata": {},
   "source": [
    "# Frequent Patterns"
   ]
  },
  {
   "cell_type": "code",
   "execution_count": 36,
   "metadata": {},
   "outputs": [],
   "source": [
    "orders = data.select(data[\"Order ID\"], data[\"Product ID\"])\n",
    "orders = orders.distinct()"
   ]
  },
  {
   "cell_type": "code",
   "execution_count": 37,
   "metadata": {},
   "outputs": [
    {
     "data": {
      "text/plain": [
       "[('CA-2011-101147', ['OFF-AP-10004249']),\n",
       " ('CA-2011-127964', ['TEC-PH-10004700']),\n",
       " ('CA-2011-125612', ['OFF-ST-10003221']),\n",
       " ('CA-2011-126361', ['OFF-AP-10003590']),\n",
       " ('US-2011-102281', ['TEC-CO-10001450'])]"
      ]
     },
     "execution_count": 37,
     "metadata": {},
     "output_type": "execute_result"
    }
   ],
   "source": [
    "rdd = orders.rdd.map(lambda x: (x[0], [x[1]]))\n",
    "rdd.take(5)"
   ]
  },
  {
   "cell_type": "code",
   "execution_count": 38,
   "metadata": {},
   "outputs": [
    {
     "data": {
      "text/plain": [
       "[('SA-2012-410', ['OFF-AVE-10004570', 'FUR-RUB-10002021']),\n",
       " ('ES-2013-5564504', ['TEC-PH-10003995', 'OFF-BI-10002047']),\n",
       " ('IR-2014-4680', ['TEC-STA-10004181', 'OFF-AVE-10004556']),\n",
       " ('US-2012-100930',\n",
       "  ['OFF-EN-10004988',\n",
       "   'TEC-PH-10003932',\n",
       "   'TEC-CO-10004481',\n",
       "   'OFF-FA-10000475']),\n",
       " ('ES-2013-3687340',\n",
       "  ['TEC-MA-10003743',\n",
       "   'OFF-EN-10001728',\n",
       "   'OFF-AR-10000711',\n",
       "   'OFF-PA-10002971',\n",
       "   'OFF-AR-10002113'])]"
      ]
     },
     "execution_count": 38,
     "metadata": {},
     "output_type": "execute_result"
    }
   ],
   "source": [
    "rdd1 = rdd.reduceByKey(lambda x,y: x+y)\n",
    "rdd1.take(5)"
   ]
  },
  {
   "cell_type": "code",
   "execution_count": 39,
   "metadata": {},
   "outputs": [],
   "source": [
    "order = sqlContext.createDataFrame(rdd1, ['Order ID', 'Product ID'])"
   ]
  },
  {
   "cell_type": "code",
   "execution_count": 40,
   "metadata": {},
   "outputs": [
    {
     "name": "stdout",
     "output_type": "stream",
     "text": [
      "+--------------------+-----------------+----------+------------------+\n",
      "|          antecedent|       consequent|confidence|              lift|\n",
      "+--------------------+-----------------+----------+------------------+\n",
      "|[OFF-SU-10003803,...|[FUR-FU-10002525]|       1.0|3576.4285714285716|\n",
      "|[OFF-SU-10003803,...|[OFF-ST-10000007]|       1.0|          3129.375|\n",
      "|[OFF-SU-10003803,...|[OFF-LA-10001830]|       1.0|          3129.375|\n",
      "|[OFF-SU-10003803,...|[OFF-LA-10003141]|       1.0|           2086.25|\n",
      "|[OFF-SU-10003803,...|[OFF-EN-10001976]|       1.0|            5007.0|\n",
      "|[OFF-AR-10003448,...|[OFF-SU-10001698]|       1.0|            8345.0|\n",
      "|[OFF-AR-10003448,...|[FUR-CH-10000026]|       1.0|            1669.0|\n",
      "|[OFF-AR-10003448,...|[FUR-CH-10001322]|       1.0|            4172.5|\n",
      "|[OFF-AR-10003448,...|[OFF-ST-10001357]|       1.0|            4172.5|\n",
      "|[OFF-AR-10003448,...|[OFF-SU-10001709]|       1.0|            4172.5|\n",
      "|[OFF-AR-10003448,...|[OFF-ST-10001824]|       1.0|            2503.5|\n",
      "|[OFF-AR-10003448,...|[FUR-CH-10002890]|       1.0|            4172.5|\n",
      "|[OFF-AR-10003448,...|[TEC-PH-10004933]|       1.0|            8345.0|\n",
      "|[FUR-FU-10001343,...|[OFF-EN-10004053]|       1.0|           6258.75|\n",
      "|[FUR-FU-10001343,...|[FUR-FU-10002292]|       1.0|            5007.0|\n",
      "|[FUR-FU-10001343,...|[OFF-FA-10000581]|       1.0|3576.4285714285716|\n",
      "|[FUR-FU-10001343,...|[OFF-BI-10001744]|       1.0|            4172.5|\n",
      "|[FUR-FU-10001343,...|[FUR-FU-10000666]|       1.0|          3129.375|\n",
      "|[FUR-FU-10001343,...|[OFF-ST-10003606]|       1.0| 2275.909090909091|\n",
      "|[TEC-CO-10002283,...|[TEC-PH-10001751]|       1.0|            4172.5|\n",
      "+--------------------+-----------------+----------+------------------+\n",
      "only showing top 20 rows\n",
      "\n"
     ]
    }
   ],
   "source": [
    "fpGrowth = FPGrowth(itemsCol=\"Product ID\", minSupport=0.00001, minConfidence=0.05)\n",
    "model = fpGrowth.fit(order)\n",
    "model.associationRules.show()"
   ]
  },
  {
   "cell_type": "code",
   "execution_count": 41,
   "metadata": {},
   "outputs": [
    {
     "name": "stdout",
     "output_type": "stream",
     "text": [
      "+--------------------+----+\n",
      "|               items|freq|\n",
      "+--------------------+----+\n",
      "|   [FUR-FU-10002937]|  14|\n",
      "|[FUR-FU-10002937,...|   1|\n",
      "|[FUR-FU-10002937,...|   1|\n",
      "|[FUR-FU-10002937,...|   1|\n",
      "|[FUR-FU-10002937,...|   1|\n",
      "|[FUR-FU-10002937,...|   1|\n",
      "|[FUR-FU-10002937,...|   1|\n",
      "|[FUR-FU-10002937,...|   1|\n",
      "|[FUR-FU-10002937,...|   1|\n",
      "|[FUR-FU-10002937,...|   1|\n",
      "|[FUR-FU-10002937,...|   1|\n",
      "|[FUR-FU-10002937,...|   1|\n",
      "|  [OFF-KIT-10003757]|   1|\n",
      "|[OFF-KIT-10003757...|   1|\n",
      "|[OFF-KIT-10003757...|   1|\n",
      "|[OFF-KIT-10003757...|   1|\n",
      "|  [OFF-CUI-10001032]|   2|\n",
      "|[OFF-CUI-10001032...|   1|\n",
      "|[OFF-CUI-10001032...|   1|\n",
      "|[OFF-CUI-10001032...|   1|\n",
      "+--------------------+----+\n",
      "only showing top 20 rows\n",
      "\n"
     ]
    }
   ],
   "source": [
    "model.freqItemsets.show()"
   ]
  },
  {
   "cell_type": "code",
   "execution_count": null,
   "metadata": {},
   "outputs": [],
   "source": []
  },
  {
   "cell_type": "code",
   "execution_count": null,
   "metadata": {},
   "outputs": [],
   "source": []
  },
  {
   "cell_type": "code",
   "execution_count": null,
   "metadata": {},
   "outputs": [],
   "source": []
  }
 ],
 "metadata": {
  "kernelspec": {
   "display_name": "Python 3",
   "language": "python",
   "name": "python3"
  },
  "language_info": {
   "codemirror_mode": {
    "name": "ipython",
    "version": 3
   },
   "file_extension": ".py",
   "mimetype": "text/x-python",
   "name": "python",
   "nbconvert_exporter": "python",
   "pygments_lexer": "ipython3",
   "version": "3.7.6"
  }
 },
 "nbformat": 4,
 "nbformat_minor": 4
}
